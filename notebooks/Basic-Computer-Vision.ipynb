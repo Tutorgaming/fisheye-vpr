{
 "cells": [
  {
   "cell_type": "markdown",
   "id": "88d2303c-83f3-4095-8cdd-e7b002d92481",
   "metadata": {
    "tags": []
   },
   "source": [
    "# Computer Vision Exploring \n",
    "- Image Distortion\n",
    "- Unwrapping\n",
    "- Feature Extraction"
   ]
  },
  {
   "cell_type": "code",
   "execution_count": null,
   "id": "8073c1a6-d12d-4810-b76a-c4838e9b2387",
   "metadata": {},
   "outputs": [],
   "source": [
    "# Imports"
   ]
  },
  {
   "cell_type": "markdown",
   "id": "92466eef-9a72-4933-bfba-be4c806d78cb",
   "metadata": {},
   "source": [
    "## Helper Functions"
   ]
  },
  {
   "cell_type": "code",
   "execution_count": null,
   "id": "35870f9c-c774-4fa6-b29f-5c2191b8e263",
   "metadata": {},
   "outputs": [],
   "source": [
    "# Utilities Function"
   ]
  },
  {
   "cell_type": "markdown",
   "id": "06b95066-5230-4fdb-8ad9-b8b5956f5e57",
   "metadata": {},
   "source": [
    "## Example Images"
   ]
  },
  {
   "cell_type": "code",
   "execution_count": null,
   "id": "32c9f392-71e6-473f-8724-2b1ddd6b1297",
   "metadata": {},
   "outputs": [],
   "source": [
    "# Normal Images"
   ]
  },
  {
   "cell_type": "code",
   "execution_count": null,
   "id": "ce10e32e-89fe-4128-9a0e-82d36854b390",
   "metadata": {},
   "outputs": [],
   "source": [
    "# Ultra-wide Images"
   ]
  },
  {
   "cell_type": "code",
   "execution_count": null,
   "id": "7e89760e-9449-4388-909b-d598a35c021e",
   "metadata": {},
   "outputs": [],
   "source": [
    "# Fisheye Images"
   ]
  },
  {
   "cell_type": "code",
   "execution_count": null,
   "id": "9a43b934-fd7d-4bf3-b0ec-9278adad9d0a",
   "metadata": {},
   "outputs": [],
   "source": [
    "# Visualize 3 Images (matplotlib)"
   ]
  },
  {
   "cell_type": "markdown",
   "id": "c2a602e8-adb8-4b89-8889-fe5dfe23c99a",
   "metadata": {
    "tags": []
   },
   "source": [
    "## Image Distortion"
   ]
  },
  {
   "cell_type": "markdown",
   "id": "cc74cb7a-138f-437e-87bb-83d987e7fd60",
   "metadata": {},
   "source": [
    "Every Image has distortion = From Lenses that need to bend the light beam onto the limited (sensory) area"
   ]
  },
  {
   "cell_type": "code",
   "execution_count": null,
   "id": "7b7e573d-dbdd-4b40-a6f1-a422c8c84158",
   "metadata": {},
   "outputs": [],
   "source": []
  },
  {
   "cell_type": "markdown",
   "id": "604f13a8-e5cc-424d-aedc-77629077161e",
   "metadata": {},
   "source": [
    "## Unwrapping Strategy"
   ]
  },
  {
   "cell_type": "code",
   "execution_count": null,
   "id": "366003fb-83d3-439a-ae90-ec5f080dc03b",
   "metadata": {},
   "outputs": [],
   "source": []
  },
  {
   "cell_type": "markdown",
   "id": "7cfbaab0-3c62-4cbd-90c3-7824c3829b60",
   "metadata": {},
   "source": [
    "## Image Feature Extraction"
   ]
  },
  {
   "cell_type": "markdown",
   "id": "828a2d15-415f-46d6-92ed-220ab23ee23e",
   "metadata": {},
   "source": [
    "### 1. Scale Invariant Feature Transform (SIFT)\n"
   ]
  },
  {
   "cell_type": "code",
   "execution_count": null,
   "id": "98ddef69-2dba-4e75-b2c2-f5ecb7337f75",
   "metadata": {},
   "outputs": [],
   "source": []
  },
  {
   "cell_type": "markdown",
   "id": "4bbda324-5555-4698-953d-17b724600dc0",
   "metadata": {},
   "source": [
    "### 2. ORB Feature"
   ]
  },
  {
   "cell_type": "code",
   "execution_count": null,
   "id": "96429af8-76ee-4bb4-aeda-66ffb1b5aafa",
   "metadata": {},
   "outputs": [],
   "source": []
  },
  {
   "cell_type": "markdown",
   "id": "3a4af55f-6ec5-42e3-ac4f-3012e79d2147",
   "metadata": {},
   "source": [
    "## Learned Feature"
   ]
  },
  {
   "cell_type": "markdown",
   "id": "c4b61ac1-ad64-445c-9b23-63a7e596c71a",
   "metadata": {},
   "source": [
    "### 1. VGG16"
   ]
  },
  {
   "cell_type": "code",
   "execution_count": null,
   "id": "ac596da1-a7a8-435e-8996-199d40b8b8bd",
   "metadata": {},
   "outputs": [],
   "source": []
  },
  {
   "cell_type": "markdown",
   "id": "78721c8b-b0f8-49bd-adba-e998c0647cab",
   "metadata": {},
   "source": [
    "### 2. ResNet"
   ]
  },
  {
   "cell_type": "code",
   "execution_count": null,
   "id": "f6344d5b-942f-4f05-a9e7-a0b5cd583e6a",
   "metadata": {},
   "outputs": [],
   "source": []
  }
 ],
 "metadata": {
  "kernelspec": {
   "display_name": "Python 3 (ipykernel)",
   "language": "python",
   "name": "python3"
  },
  "language_info": {
   "codemirror_mode": {
    "name": "ipython",
    "version": 3
   },
   "file_extension": ".py",
   "mimetype": "text/x-python",
   "name": "python",
   "nbconvert_exporter": "python",
   "pygments_lexer": "ipython3",
   "version": "3.8.10"
  }
 },
 "nbformat": 4,
 "nbformat_minor": 5
}
