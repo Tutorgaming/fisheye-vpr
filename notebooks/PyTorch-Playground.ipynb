{
 "cells": [
  {
   "cell_type": "code",
   "execution_count": 13,
   "id": "d1a3329f-2059-490a-b674-555b3981daac",
   "metadata": {
    "tags": []
   },
   "outputs": [],
   "source": [
    "import torch\n",
    "import torch.nn.functional as F\n"
   ]
  },
  {
   "cell_type": "code",
   "execution_count": 3,
   "id": "38c9f641-c542-4ba4-adb6-a1a43814aa97",
   "metadata": {
    "tags": []
   },
   "outputs": [],
   "source": [
    "tensor = torch.tensor([1.11, 2.22,3.33])"
   ]
  },
  {
   "cell_type": "code",
   "execution_count": 4,
   "id": "f6da8279-8054-4710-8838-97385de5361f",
   "metadata": {
    "tags": []
   },
   "outputs": [
    {
     "name": "stdout",
     "output_type": "stream",
     "text": [
      "tensor([1.1100, 2.2200, 3.3300])\n",
      "size : torch.Size([3])\n"
     ]
    }
   ],
   "source": [
    "print(tensor)\n",
    "print(f\"size : {tensor.shape}\")"
   ]
  },
  {
   "cell_type": "code",
   "execution_count": 5,
   "id": "a0e40916-e132-40e2-8685-71deeb864f87",
   "metadata": {
    "tags": []
   },
   "outputs": [
    {
     "name": "stdout",
     "output_type": "stream",
     "text": [
      "tensor([[1.1100],\n",
      "        [2.2200],\n",
      "        [3.3300]])\n",
      "size : torch.Size([3, 1])\n"
     ]
    }
   ],
   "source": [
    "# Unsqueeze (-1)\n",
    "tensor_usq = tensor.unsqueeze(-1)\n",
    "print(tensor_usq)\n",
    "print(f\"size : {tensor_usq.shape}\")"
   ]
  },
  {
   "cell_type": "code",
   "execution_count": 6,
   "id": "e1abda89-9277-4b88-b3e6-c4cfef80a07e",
   "metadata": {
    "tags": []
   },
   "outputs": [
    {
     "name": "stdout",
     "output_type": "stream",
     "text": [
      "tensor([[1.1100, 2.2200, 3.3300]])\n"
     ]
    }
   ],
   "source": [
    "\n",
    "tensor_usq0 = tensor.unsqueeze(0)\n",
    "print(tensor_usq0)"
   ]
  },
  {
   "cell_type": "code",
   "execution_count": 7,
   "id": "2f242f34-23f7-4d0c-b23e-8a5ca7a192d9",
   "metadata": {
    "tags": []
   },
   "outputs": [
    {
     "name": "stdout",
     "output_type": "stream",
     "text": [
      "tensor([[1.1100],\n",
      "        [2.2200],\n",
      "        [3.3300]])\n"
     ]
    }
   ],
   "source": [
    "tensor_usq1 = tensor.unsqueeze(1)\n",
    "print(tensor_usq1)"
   ]
  },
  {
   "cell_type": "code",
   "execution_count": 8,
   "id": "c7e6010a-9f5b-4f6f-a36b-0f16a8e78939",
   "metadata": {
    "tags": []
   },
   "outputs": [
    {
     "name": "stdout",
     "output_type": "stream",
     "text": [
      "tensor([[[1.1100]],\n",
      "\n",
      "        [[2.2200]],\n",
      "\n",
      "        [[3.3300]]])\n"
     ]
    }
   ],
   "source": [
    "tensor_view = tensor.view(3,1,1)\n",
    "print(tensor_view)"
   ]
  },
  {
   "cell_type": "code",
   "execution_count": 9,
   "id": "4d908fcc-1b73-4ce6-8c5a-e25ebe07de93",
   "metadata": {
    "tags": []
   },
   "outputs": [
    {
     "name": "stdout",
     "output_type": "stream",
     "text": [
      "tensor([[[1.1100]],\n",
      "\n",
      "        [[2.2200]],\n",
      "\n",
      "        [[3.3300]]])\n"
     ]
    }
   ],
   "source": [
    "double_usq = tensor.unsqueeze(-1).unsqueeze(-1)\n",
    "print(double_usq)"
   ]
  },
  {
   "cell_type": "code",
   "execution_count": 10,
   "id": "b259b77d-c215-4487-9fca-927db014f733",
   "metadata": {
    "tags": []
   },
   "outputs": [],
   "source": [
    "sift_feature = 5\n",
    "cluster = 3\n",
    "my_rand = torch.rand(cluster, sift_feature)"
   ]
  },
  {
   "cell_type": "code",
   "execution_count": 11,
   "id": "fd0ae852-3e73-47f5-878c-3b1b1e924e84",
   "metadata": {
    "tags": []
   },
   "outputs": [
    {
     "data": {
      "text/plain": [
       "tensor([[0.1871, 0.2464, 0.4505, 0.6111, 0.1410],\n",
       "        [0.3883, 0.9948, 0.7917, 0.1360, 0.2118],\n",
       "        [0.8362, 0.9717, 0.1571, 0.8393, 0.2109]])"
      ]
     },
     "execution_count": 11,
     "metadata": {},
     "output_type": "execute_result"
    }
   ],
   "source": [
    "my_rand"
   ]
  },
  {
   "cell_type": "code",
   "execution_count": 12,
   "id": "f2d0830c-b09a-412c-8220-a1866c5615a8",
   "metadata": {
    "tags": []
   },
   "outputs": [
    {
     "name": "stdout",
     "output_type": "stream",
     "text": [
      "tensor([[[0.1871],\n",
      "         [0.2464],\n",
      "         [0.4505],\n",
      "         [0.6111],\n",
      "         [0.1410]],\n",
      "\n",
      "        [[0.3883],\n",
      "         [0.9948],\n",
      "         [0.7917],\n",
      "         [0.1360],\n",
      "         [0.2118]],\n",
      "\n",
      "        [[0.8362],\n",
      "         [0.9717],\n",
      "         [0.1571],\n",
      "         [0.8393],\n",
      "         [0.2109]]])\n",
      "torch.Size([3, 5, 1])\n"
     ]
    }
   ],
   "source": [
    "mb = my_rand.unsqueeze(-1)\n",
    "print(mb)\n",
    "print(mb.size())"
   ]
  },
  {
   "cell_type": "code",
   "execution_count": 13,
   "id": "d9edb69c-bbe6-4de7-a117-967e30237c87",
   "metadata": {
    "tags": []
   },
   "outputs": [
    {
     "name": "stdout",
     "output_type": "stream",
     "text": [
      "tensor([[[[0.1871]],\n",
      "\n",
      "         [[0.2464]],\n",
      "\n",
      "         [[0.4505]],\n",
      "\n",
      "         [[0.6111]],\n",
      "\n",
      "         [[0.1410]]],\n",
      "\n",
      "\n",
      "        [[[0.3883]],\n",
      "\n",
      "         [[0.9948]],\n",
      "\n",
      "         [[0.7917]],\n",
      "\n",
      "         [[0.1360]],\n",
      "\n",
      "         [[0.2118]]],\n",
      "\n",
      "\n",
      "        [[[0.8362]],\n",
      "\n",
      "         [[0.9717]],\n",
      "\n",
      "         [[0.1571]],\n",
      "\n",
      "         [[0.8393]],\n",
      "\n",
      "         [[0.2109]]]])\n",
      "torch.Size([3, 5, 1, 1])\n"
     ]
    }
   ],
   "source": [
    "mbb = my_rand.unsqueeze(-1).unsqueeze(-1)\n",
    "print(mbb)\n",
    "print(mbb.size())"
   ]
  },
  {
   "cell_type": "code",
   "execution_count": 14,
   "id": "fe1ef7d1-11ac-48fd-b297-30db0bcb98a8",
   "metadata": {
    "tags": []
   },
   "outputs": [],
   "source": [
    "import torchinfo\n",
    "from torchvision.models import resnet18\n",
    "import torch.nn as nn\n",
    "import torch.nn.functional as F"
   ]
  },
  {
   "cell_type": "code",
   "execution_count": 15,
   "id": "cce5779b-f43c-4a19-a1b6-eaad1a1c4db9",
   "metadata": {
    "tags": []
   },
   "outputs": [
    {
     "name": "stderr",
     "output_type": "stream",
     "text": [
      "/usr/local/lib/python3.8/dist-packages/torchvision/models/_utils.py:208: UserWarning: The parameter 'pretrained' is deprecated since 0.13 and may be removed in the future, please use 'weights' instead.\n",
      "  warnings.warn(\n",
      "/usr/local/lib/python3.8/dist-packages/torchvision/models/_utils.py:223: UserWarning: Arguments other than a weight enum or `None` for 'weights' are deprecated since 0.13 and may be removed in the future. The current behavior is equivalent to passing `weights=ResNet18_Weights.IMAGENET1K_V1`. You can also use `weights=ResNet18_Weights.DEFAULT` to get the most up-to-date weights.\n",
      "  warnings.warn(msg)\n"
     ]
    }
   ],
   "source": [
    "encoder = resnet18(pretrained=True)\n",
    "base_model = nn.Sequential(\n",
    "    encoder.conv1,\n",
    "    encoder.bn1,\n",
    "    encoder.relu,\n",
    "    encoder.maxpool,\n",
    "    encoder.layer1,\n",
    "    encoder.layer2,\n",
    "    encoder.layer3,\n",
    "    encoder.layer4,\n",
    ")"
   ]
  },
  {
   "cell_type": "code",
   "execution_count": 16,
   "id": "e786d7d8-bde7-4dff-8a5e-f3a239755cae",
   "metadata": {
    "tags": []
   },
   "outputs": [
    {
     "name": "stdout",
     "output_type": "stream",
     "text": [
      "torch.Size([512])\n"
     ]
    }
   ],
   "source": [
    "dim = list(base_model.parameters())[-1].shape # last channels (512)\n",
    "print(dim)\n"
   ]
  },
  {
   "cell_type": "code",
   "execution_count": 17,
   "id": "880847b9-a9a2-4e0f-8c87-fb0188180201",
   "metadata": {
    "tags": []
   },
   "outputs": [
    {
     "ename": "RuntimeError",
     "evalue": "No CUDA GPUs are available",
     "output_type": "error",
     "traceback": [
      "\u001b[0;31m---------------------------------------------------------------------------\u001b[0m",
      "\u001b[0;31mRuntimeError\u001b[0m                              Traceback (most recent call last)",
      "Cell \u001b[0;32mIn[17], line 1\u001b[0m\n\u001b[0;32m----> 1\u001b[0m torchinfo\u001b[38;5;241m.\u001b[39msummary(\u001b[43mbase_model\u001b[49m\u001b[38;5;241;43m.\u001b[39;49m\u001b[43mcuda\u001b[49m\u001b[43m(\u001b[49m\u001b[43m)\u001b[49m, input_size\u001b[38;5;241m=\u001b[39m(\u001b[38;5;241m1\u001b[39m,\u001b[38;5;241m3\u001b[39m,\u001b[38;5;241m128\u001b[39m,\u001b[38;5;241m128\u001b[39m))\n",
      "File \u001b[0;32m/usr/local/lib/python3.8/dist-packages/torch/nn/modules/module.py:905\u001b[0m, in \u001b[0;36mModule.cuda\u001b[0;34m(self, device)\u001b[0m\n\u001b[1;32m    888\u001b[0m \u001b[38;5;28;01mdef\u001b[39;00m \u001b[38;5;21mcuda\u001b[39m(\u001b[38;5;28mself\u001b[39m: T, device: Optional[Union[\u001b[38;5;28mint\u001b[39m, device]] \u001b[38;5;241m=\u001b[39m \u001b[38;5;28;01mNone\u001b[39;00m) \u001b[38;5;241m-\u001b[39m\u001b[38;5;241m>\u001b[39m T:\n\u001b[1;32m    889\u001b[0m \u001b[38;5;250m    \u001b[39m\u001b[38;5;124mr\u001b[39m\u001b[38;5;124;03m\"\"\"Moves all model parameters and buffers to the GPU.\u001b[39;00m\n\u001b[1;32m    890\u001b[0m \n\u001b[1;32m    891\u001b[0m \u001b[38;5;124;03m    This also makes associated parameters and buffers different objects. So\u001b[39;00m\n\u001b[0;32m   (...)\u001b[0m\n\u001b[1;32m    903\u001b[0m \u001b[38;5;124;03m        Module: self\u001b[39;00m\n\u001b[1;32m    904\u001b[0m \u001b[38;5;124;03m    \"\"\"\u001b[39;00m\n\u001b[0;32m--> 905\u001b[0m     \u001b[38;5;28;01mreturn\u001b[39;00m \u001b[38;5;28;43mself\u001b[39;49m\u001b[38;5;241;43m.\u001b[39;49m\u001b[43m_apply\u001b[49m\u001b[43m(\u001b[49m\u001b[38;5;28;43;01mlambda\u001b[39;49;00m\u001b[43m \u001b[49m\u001b[43mt\u001b[49m\u001b[43m:\u001b[49m\u001b[43m \u001b[49m\u001b[43mt\u001b[49m\u001b[38;5;241;43m.\u001b[39;49m\u001b[43mcuda\u001b[49m\u001b[43m(\u001b[49m\u001b[43mdevice\u001b[49m\u001b[43m)\u001b[49m\u001b[43m)\u001b[49m\n",
      "File \u001b[0;32m/usr/local/lib/python3.8/dist-packages/torch/nn/modules/module.py:797\u001b[0m, in \u001b[0;36mModule._apply\u001b[0;34m(self, fn)\u001b[0m\n\u001b[1;32m    795\u001b[0m \u001b[38;5;28;01mdef\u001b[39;00m \u001b[38;5;21m_apply\u001b[39m(\u001b[38;5;28mself\u001b[39m, fn):\n\u001b[1;32m    796\u001b[0m     \u001b[38;5;28;01mfor\u001b[39;00m module \u001b[38;5;129;01min\u001b[39;00m \u001b[38;5;28mself\u001b[39m\u001b[38;5;241m.\u001b[39mchildren():\n\u001b[0;32m--> 797\u001b[0m         \u001b[43mmodule\u001b[49m\u001b[38;5;241;43m.\u001b[39;49m\u001b[43m_apply\u001b[49m\u001b[43m(\u001b[49m\u001b[43mfn\u001b[49m\u001b[43m)\u001b[49m\n\u001b[1;32m    799\u001b[0m     \u001b[38;5;28;01mdef\u001b[39;00m \u001b[38;5;21mcompute_should_use_set_data\u001b[39m(tensor, tensor_applied):\n\u001b[1;32m    800\u001b[0m         \u001b[38;5;28;01mif\u001b[39;00m torch\u001b[38;5;241m.\u001b[39m_has_compatible_shallow_copy_type(tensor, tensor_applied):\n\u001b[1;32m    801\u001b[0m             \u001b[38;5;66;03m# If the new tensor has compatible tensor type as the existing tensor,\u001b[39;00m\n\u001b[1;32m    802\u001b[0m             \u001b[38;5;66;03m# the current behavior is to change the tensor in-place using `.data =`,\u001b[39;00m\n\u001b[0;32m   (...)\u001b[0m\n\u001b[1;32m    807\u001b[0m             \u001b[38;5;66;03m# global flag to let the user control whether they want the future\u001b[39;00m\n\u001b[1;32m    808\u001b[0m             \u001b[38;5;66;03m# behavior of overwriting the existing tensor or not.\u001b[39;00m\n",
      "File \u001b[0;32m/usr/local/lib/python3.8/dist-packages/torch/nn/modules/module.py:820\u001b[0m, in \u001b[0;36mModule._apply\u001b[0;34m(self, fn)\u001b[0m\n\u001b[1;32m    816\u001b[0m \u001b[38;5;66;03m# Tensors stored in modules are graph leaves, and we don't want to\u001b[39;00m\n\u001b[1;32m    817\u001b[0m \u001b[38;5;66;03m# track autograd history of `param_applied`, so we have to use\u001b[39;00m\n\u001b[1;32m    818\u001b[0m \u001b[38;5;66;03m# `with torch.no_grad():`\u001b[39;00m\n\u001b[1;32m    819\u001b[0m \u001b[38;5;28;01mwith\u001b[39;00m torch\u001b[38;5;241m.\u001b[39mno_grad():\n\u001b[0;32m--> 820\u001b[0m     param_applied \u001b[38;5;241m=\u001b[39m \u001b[43mfn\u001b[49m\u001b[43m(\u001b[49m\u001b[43mparam\u001b[49m\u001b[43m)\u001b[49m\n\u001b[1;32m    821\u001b[0m should_use_set_data \u001b[38;5;241m=\u001b[39m compute_should_use_set_data(param, param_applied)\n\u001b[1;32m    822\u001b[0m \u001b[38;5;28;01mif\u001b[39;00m should_use_set_data:\n",
      "File \u001b[0;32m/usr/local/lib/python3.8/dist-packages/torch/nn/modules/module.py:905\u001b[0m, in \u001b[0;36mModule.cuda.<locals>.<lambda>\u001b[0;34m(t)\u001b[0m\n\u001b[1;32m    888\u001b[0m \u001b[38;5;28;01mdef\u001b[39;00m \u001b[38;5;21mcuda\u001b[39m(\u001b[38;5;28mself\u001b[39m: T, device: Optional[Union[\u001b[38;5;28mint\u001b[39m, device]] \u001b[38;5;241m=\u001b[39m \u001b[38;5;28;01mNone\u001b[39;00m) \u001b[38;5;241m-\u001b[39m\u001b[38;5;241m>\u001b[39m T:\n\u001b[1;32m    889\u001b[0m \u001b[38;5;250m    \u001b[39m\u001b[38;5;124mr\u001b[39m\u001b[38;5;124;03m\"\"\"Moves all model parameters and buffers to the GPU.\u001b[39;00m\n\u001b[1;32m    890\u001b[0m \n\u001b[1;32m    891\u001b[0m \u001b[38;5;124;03m    This also makes associated parameters and buffers different objects. So\u001b[39;00m\n\u001b[0;32m   (...)\u001b[0m\n\u001b[1;32m    903\u001b[0m \u001b[38;5;124;03m        Module: self\u001b[39;00m\n\u001b[1;32m    904\u001b[0m \u001b[38;5;124;03m    \"\"\"\u001b[39;00m\n\u001b[0;32m--> 905\u001b[0m     \u001b[38;5;28;01mreturn\u001b[39;00m \u001b[38;5;28mself\u001b[39m\u001b[38;5;241m.\u001b[39m_apply(\u001b[38;5;28;01mlambda\u001b[39;00m t: \u001b[43mt\u001b[49m\u001b[38;5;241;43m.\u001b[39;49m\u001b[43mcuda\u001b[49m\u001b[43m(\u001b[49m\u001b[43mdevice\u001b[49m\u001b[43m)\u001b[49m)\n",
      "File \u001b[0;32m/usr/local/lib/python3.8/dist-packages/torch/cuda/__init__.py:247\u001b[0m, in \u001b[0;36m_lazy_init\u001b[0;34m()\u001b[0m\n\u001b[1;32m    245\u001b[0m \u001b[38;5;28;01mif\u001b[39;00m \u001b[38;5;124m'\u001b[39m\u001b[38;5;124mCUDA_MODULE_LOADING\u001b[39m\u001b[38;5;124m'\u001b[39m \u001b[38;5;129;01mnot\u001b[39;00m \u001b[38;5;129;01min\u001b[39;00m os\u001b[38;5;241m.\u001b[39menviron:\n\u001b[1;32m    246\u001b[0m     os\u001b[38;5;241m.\u001b[39menviron[\u001b[38;5;124m'\u001b[39m\u001b[38;5;124mCUDA_MODULE_LOADING\u001b[39m\u001b[38;5;124m'\u001b[39m] \u001b[38;5;241m=\u001b[39m \u001b[38;5;124m'\u001b[39m\u001b[38;5;124mLAZY\u001b[39m\u001b[38;5;124m'\u001b[39m\n\u001b[0;32m--> 247\u001b[0m \u001b[43mtorch\u001b[49m\u001b[38;5;241;43m.\u001b[39;49m\u001b[43m_C\u001b[49m\u001b[38;5;241;43m.\u001b[39;49m\u001b[43m_cuda_init\u001b[49m\u001b[43m(\u001b[49m\u001b[43m)\u001b[49m\n\u001b[1;32m    248\u001b[0m \u001b[38;5;66;03m# Some of the queued calls may reentrantly call _lazy_init();\u001b[39;00m\n\u001b[1;32m    249\u001b[0m \u001b[38;5;66;03m# we need to just return without initializing in that case.\u001b[39;00m\n\u001b[1;32m    250\u001b[0m \u001b[38;5;66;03m# However, we must not let any *other* threads in!\u001b[39;00m\n\u001b[1;32m    251\u001b[0m _tls\u001b[38;5;241m.\u001b[39mis_initializing \u001b[38;5;241m=\u001b[39m \u001b[38;5;28;01mTrue\u001b[39;00m\n",
      "\u001b[0;31mRuntimeError\u001b[0m: No CUDA GPUs are available"
     ]
    }
   ],
   "source": [
    "torchinfo.summary(base_model.cuda(), input_size=(1,3,128,128))"
   ]
  },
  {
   "cell_type": "code",
   "execution_count": null,
   "id": "02290262-d600-4ce8-a08d-533ed827a9fe",
   "metadata": {
    "tags": []
   },
   "outputs": [],
   "source": [
    "[1,512,4,4][0:2]"
   ]
  },
  {
   "cell_type": "code",
   "execution_count": null,
   "id": "2ddcbccd-bf2c-4264-8186-dd3f15a7d31f",
   "metadata": {
    "tags": []
   },
   "outputs": [],
   "source": [
    "new = torch.rand(1,512,4,4)\n",
    "print(new.view(1,512,-1).shape)"
   ]
  },
  {
   "cell_type": "code",
   "execution_count": null,
   "id": "2498143e-7883-447a-b3f4-f08378b04caf",
   "metadata": {
    "tags": []
   },
   "outputs": [],
   "source": [
    "my_conv = nn.Conv2d(\n",
    "            512, \n",
    "            6, \n",
    "            kernel_size=(1, 1), \n",
    "            bias=True\n",
    "        )"
   ]
  },
  {
   "cell_type": "code",
   "execution_count": null,
   "id": "a689b7b0-df76-46a2-9dfb-b26c1c91b7c1",
   "metadata": {
    "tags": []
   },
   "outputs": [],
   "source": [
    "import torchinfo"
   ]
  },
  {
   "cell_type": "code",
   "execution_count": null,
   "id": "8d3ab9fc-226b-47c1-9e6a-7e6411d0c6c1",
   "metadata": {
    "tags": []
   },
   "outputs": [],
   "source": [
    "torchinfo.summary(my_conv.cuda(), input_size=(1,512,4,4))"
   ]
  },
  {
   "cell_type": "code",
   "execution_count": null,
   "id": "f223d363-8e9a-4b70-abe8-0ab0435e8efe",
   "metadata": {
    "tags": []
   },
   "outputs": [],
   "source": [
    "ss = torch.rand(1,6,4,4).view(1,6,-1)\n",
    "print(ss)"
   ]
  },
  {
   "cell_type": "code",
   "execution_count": null,
   "id": "6b4f02f6-a66e-4c13-9d41-3c4d0fdc994a",
   "metadata": {
    "tags": []
   },
   "outputs": [],
   "source": [
    "ss.shape"
   ]
  },
  {
   "cell_type": "code",
   "execution_count": null,
   "id": "304454b1-7528-40f8-bf6e-e884cbe14e5d",
   "metadata": {
    "tags": []
   },
   "outputs": [],
   "source": [
    "ss.size(-1)"
   ]
  },
  {
   "cell_type": "code",
   "execution_count": null,
   "id": "8a2f39f1-0a73-4e95-ad5d-1524dd8e63b4",
   "metadata": {
    "tags": []
   },
   "outputs": [],
   "source": [
    "F.softmax(ss, dim=0)"
   ]
  },
  {
   "cell_type": "code",
   "execution_count": null,
   "id": "5a0782d6-9a19-43cd-9902-0fc2c1f0453f",
   "metadata": {
    "tags": []
   },
   "outputs": [],
   "source": [
    "sss = F.softmax(ss, dim=1)"
   ]
  },
  {
   "cell_type": "code",
   "execution_count": null,
   "id": "618fc9ee-2e9c-4ac9-ba88-7c2f18d3b00c",
   "metadata": {
    "tags": []
   },
   "outputs": [],
   "source": [
    "sss"
   ]
  },
  {
   "cell_type": "code",
   "execution_count": null,
   "id": "3dfafef8-3923-4e1a-b807-b9fc8d3d1a45",
   "metadata": {
    "tags": []
   },
   "outputs": [],
   "source": [
    "bb = torch.tensor([\n",
    "    [[1,2,3]],\n",
    "    [[4,5,6]]\n",
    "],dtype=float)\n",
    "print(bb)\n",
    "print(bb.shape)"
   ]
  },
  {
   "cell_type": "code",
   "execution_count": null,
   "id": "2e64a58b-2de5-4fa1-8601-f58274ca5e33",
   "metadata": {
    "tags": []
   },
   "outputs": [],
   "source": [
    "F.softmax(ss, dim=1)"
   ]
  },
  {
   "cell_type": "code",
   "execution_count": null,
   "id": "455ed132-11d3-4f68-a5db-94684a479aca",
   "metadata": {
    "tags": []
   },
   "outputs": [],
   "source": [
    "0.0900+0.2447+0.6652"
   ]
  },
  {
   "cell_type": "code",
   "execution_count": null,
   "id": "a6a2ac18-4c6e-4bb6-a570-0deebc3626b5",
   "metadata": {},
   "outputs": [],
   "source": [
    "class NetVLAD(nn.Module):\n",
    "    \"\"\"NetVLAD layer implementation\"\"\"\n",
    "\n",
    "    def __init__(self, num_clusters=64, dim=128, \n",
    "                 normalize_input=True, vladv2=False):\n",
    "        \"\"\"\n",
    "        Args:\n",
    "            num_clusters : int\n",
    "                The number of clusters\n",
    "            dim : int\n",
    "                Dimension of descriptors\n",
    "            alpha : float\n",
    "                Parameter of initialization. Larger value is harder assignment.\n",
    "            normalize_input : bool\n",
    "                If true, descriptor-wise L2 normalization is applied to input.\n",
    "            vladv2 : bool\n",
    "                If true, use vladv2 otherwise use vladv1\n",
    "        \"\"\"\n",
    "        super(NetVLAD, self).__init__()\n",
    "        self.num_clusters = num_clusters\n",
    "        self.dim = dim\n",
    "        self.alpha = 0\n",
    "        self.vladv2 = vladv2\n",
    "        self.normalize_input = normalize_input\n",
    "        self.conv = nn.Conv2d(dim, num_clusters, kernel_size=(1, 1), bias=vladv2)\n",
    "        self.centroids = nn.Parameter(torch.rand(num_clusters, dim))\n",
    "\n",
    "    def init_params(self, clsts, traindescs):\n",
    "        #TODO replace numpy ops with pytorch ops\n",
    "        if self.vladv2 == False:\n",
    "            clstsAssign = clsts / np.linalg.norm(clsts, axis=1, keepdims=True)\n",
    "            dots = np.dot(clstsAssign, traindescs.T)\n",
    "            dots.sort(0)\n",
    "            dots = dots[::-1, :] # sort, descending\n",
    "\n",
    "            self.alpha = (-np.log(0.01) / np.mean(dots[0,:] - dots[1,:])).item()\n",
    "            self.centroids = nn.Parameter(torch.from_numpy(clsts))\n",
    "            self.conv.weight = nn.Parameter(torch.from_numpy(self.alpha*clstsAssign).unsqueeze(2).unsqueeze(3))\n",
    "            self.conv.bias = None\n",
    "       \n",
    "\n",
    "    def forward(self, x):\n",
    "        N, C = x.shape[:2]\n",
    "\n",
    "        if self.normalize_input:\n",
    "            x = F.normalize(x, p=2, dim=1)  # across descriptor dim\n",
    "\n",
    "        # soft-assignment\n",
    "        soft_assign = self.conv(x).view(N, self.num_clusters, -1)\n",
    "        soft_assign = F.softmax(soft_assign, dim=1)\n",
    "\n",
    "        x_flatten = x.view(N, C, -1)\n",
    "        \n",
    "        # calculate residuals to each clusters\n",
    "        vlad = torch.zeros([N, self.num_clusters, C], dtype=x.dtype, layout=x.layout, device=x.device)\n",
    "        for C in range(self.num_clusters): # slower than non-looped, but lower memory usage \n",
    "            residual = x_flatten.unsqueeze(0).permute(1, 0, 2, 3) - \\\n",
    "                    self.centroids[C:C+1, :].expand(x_flatten.size(-1), -1, -1).permute(1, 2, 0).unsqueeze(0)\n",
    "            residual *= soft_assign[:,C:C+1,:].unsqueeze(2)\n",
    "            vlad[:,C:C+1,:] = residual.sum(dim=-1)\n",
    "\n",
    "        vlad = F.normalize(vlad, p=2, dim=2)  # intra-normalization\n",
    "        vlad = vlad.view(x.size(0), -1)  # flatten\n",
    "        vlad = F.normalize(vlad, p=2, dim=1)  # L2 normalize\n",
    "\n",
    "        return vlad"
   ]
  },
  {
   "cell_type": "code",
   "execution_count": null,
   "id": "71078533-7f73-41b3-8881-d5ce8b3abfa6",
   "metadata": {
    "tags": []
   },
   "outputs": [],
   "source": [
    "model_netvlad = NetVLAD(6,128,100,True)\n"
   ]
  },
  {
   "cell_type": "code",
   "execution_count": null,
   "id": "f01f9f32-78d8-4837-9a0d-f291ef8fdff4",
   "metadata": {
    "tags": []
   },
   "outputs": [],
   "source": [
    "torchinfo.summary(model_netvlad, input_size=(1,128,4,4))"
   ]
  },
  {
   "cell_type": "code",
   "execution_count": 140,
   "id": "5eb60394-7205-49f7-a783-ca600b96b4c1",
   "metadata": {},
   "outputs": [],
   "source": [
    "entries = 5\n",
    "embedded_dim = 3\n",
    "embeddings = torch.rand(entries, embedded_dim) * 100e-2"
   ]
  },
  {
   "cell_type": "code",
   "execution_count": 141,
   "id": "3fb322dc-ee52-416a-86b9-a7a9bd65bb89",
   "metadata": {
    "tags": []
   },
   "outputs": [
    {
     "data": {
      "text/plain": [
       "tensor([[0.2165, 0.2350, 0.5292],\n",
       "        [0.0958, 0.3472, 0.2017],\n",
       "        [0.8312, 0.3126, 0.7385],\n",
       "        [0.5124, 0.7426, 0.2795],\n",
       "        [0.5861, 0.9412, 0.3736]])"
      ]
     },
     "execution_count": 141,
     "metadata": {},
     "output_type": "execute_result"
    }
   ],
   "source": [
    "embeddings"
   ]
  },
  {
   "cell_type": "code",
   "execution_count": 142,
   "id": "d00e484d-53e6-4ad5-a24b-212bdf3daae3",
   "metadata": {
    "tags": []
   },
   "outputs": [
    {
     "name": "stdout",
     "output_type": "stream",
     "text": [
      "Failed to initialize NVML: Unknown Error\n"
     ]
    }
   ],
   "source": [
    "!nvidia-smi"
   ]
  },
  {
   "cell_type": "code",
   "execution_count": 143,
   "id": "f241f0b8-cf60-4801-8955-54775dfa56fe",
   "metadata": {
    "tags": []
   },
   "outputs": [],
   "source": [
    "def _pairwise_distance(x, squared=False, eps=1e-16):\n",
    "    # Compute the 2D matrix of distances between all the embeddings.\n",
    "\n",
    "    cor_mat = torch.matmul(x, x.t())\n",
    "    print(\"Correlation Matrix : \\n{}\".format(cor_mat))\n",
    "    norm_mat = cor_mat.diag()\n",
    "    print(\"Norm Matrix : \\n{}\".format(norm_mat))\n",
    "    print(\"NORM UNSQUEEZE(0) : \\n{}\".format(norm_mat.unsqueeze(0)))\n",
    "    print(\"NORM UNSQUEEZE(1) : \\n{}\".format(norm_mat.unsqueeze(1)))\n",
    "    \n",
    "    print(\"2xCorMat : \\n{}\".format(2 * cor_mat))\n",
    "    print(\"NormMat.UQ(1) Minus 2xCorMat : \\n{}\".format(norm_mat.unsqueeze(1) - 2 * cor_mat))\n",
    "    distances = norm_mat.unsqueeze(1) - 2 * cor_mat + norm_mat.unsqueeze(0)\n",
    "    print(\"Dist Matrix before relu : \\n{}\".format(distances))\n",
    "    \n",
    "    distances = F.relu(distances)\n",
    "    print(\"Dist Matrix After relu : \\n{}\".format(distances))\n",
    "    \n",
    "    ccc = torch.sqrt(distances)\n",
    "    \n",
    "    if not squared:\n",
    "        mask = torch.eq(distances, 0.0).float()\n",
    "        print(\"Mask : \\n{}\".format(mask))\n",
    "        \n",
    "        distances = distances + mask * eps\n",
    "        print(\"Distance After +Mask : \\n{}\".format(distances))\n",
    "        \n",
    "        distances = torch.sqrt(distances)\n",
    "        distances = distances * (1.0 - mask)\n",
    "        \n",
    "        print(\"EQ : \\n{}\".format(torch.eq(distances, ccc)))\n",
    "\n",
    "    return distances"
   ]
  },
  {
   "cell_type": "code",
   "execution_count": 144,
   "id": "17192013-a835-492b-8be5-86415ebc4f61",
   "metadata": {
    "tags": []
   },
   "outputs": [
    {
     "name": "stdout",
     "output_type": "stream",
     "text": [
      "Correlation Matrix : \n",
      "tensor([[0.3821, 0.2090, 0.6442, 0.4333, 0.5457],\n",
      "        [0.2090, 0.1704, 0.3371, 0.3633, 0.4583],\n",
      "        [0.6442, 0.3371, 1.3340, 0.8644, 1.0573],\n",
      "        [0.4333, 0.3633, 0.8644, 0.8921, 1.1036],\n",
      "        [0.5457, 0.4583, 1.0573, 1.1036, 1.3689]])\n",
      "Norm Matrix : \n",
      "tensor([0.3821, 0.1704, 1.3340, 0.8921, 1.3689])\n",
      "NORM UNSQUEEZE(0) : \n",
      "tensor([[0.3821, 0.1704, 1.3340, 0.8921, 1.3689]])\n",
      "NORM UNSQUEEZE(1) : \n",
      "tensor([[0.3821],\n",
      "        [0.1704],\n",
      "        [1.3340],\n",
      "        [0.8921],\n",
      "        [1.3689]])\n",
      "2xCorMat : \n",
      "tensor([[0.7642, 0.4181, 1.2884, 0.8666, 1.0915],\n",
      "        [0.4181, 0.3408, 0.6743, 0.7266, 0.9165],\n",
      "        [1.2884, 0.6743, 2.6680, 1.7289, 2.1147],\n",
      "        [0.8666, 0.7266, 1.7289, 1.7842, 2.2073],\n",
      "        [1.0915, 0.9165, 2.1147, 2.2073, 2.7378]])\n",
      "NormMat.UQ(1) Minus 2xCorMat : \n",
      "tensor([[-0.3821, -0.0360, -0.9063, -0.4845, -0.7094],\n",
      "        [-0.2477, -0.1704, -0.5039, -0.5562, -0.7461],\n",
      "        [ 0.0456,  0.6597, -1.3340, -0.3949, -0.7807],\n",
      "        [ 0.0255,  0.1655, -0.8368, -0.8921, -1.3152],\n",
      "        [ 0.2774,  0.4524, -0.7458, -0.8384, -1.3689]])\n",
      "Dist Matrix before relu : \n",
      "tensor([[0.0000, 0.1344, 0.4277, 0.4076, 0.6595],\n",
      "        [0.1344, 0.0000, 0.8301, 0.3359, 0.6228],\n",
      "        [0.4277, 0.8301, 0.0000, 0.4972, 0.5882],\n",
      "        [0.4076, 0.3359, 0.4972, 0.0000, 0.0537],\n",
      "        [0.6595, 0.6228, 0.5882, 0.0537, 0.0000]])\n",
      "Dist Matrix After relu : \n",
      "tensor([[0.0000, 0.1344, 0.4277, 0.4076, 0.6595],\n",
      "        [0.1344, 0.0000, 0.8301, 0.3359, 0.6228],\n",
      "        [0.4277, 0.8301, 0.0000, 0.4972, 0.5882],\n",
      "        [0.4076, 0.3359, 0.4972, 0.0000, 0.0537],\n",
      "        [0.6595, 0.6228, 0.5882, 0.0537, 0.0000]])\n",
      "Mask : \n",
      "tensor([[1., 0., 0., 0., 0.],\n",
      "        [0., 1., 0., 0., 0.],\n",
      "        [0., 0., 1., 0., 0.],\n",
      "        [0., 0., 0., 1., 0.],\n",
      "        [0., 0., 0., 0., 1.]])\n",
      "Distance After +Mask : \n",
      "tensor([[1.0000e-16, 1.3439e-01, 4.2772e-01, 4.0755e-01, 6.5952e-01],\n",
      "        [1.3439e-01, 1.0000e-16, 8.3015e-01, 3.3592e-01, 6.2277e-01],\n",
      "        [4.2772e-01, 8.3015e-01, 1.0000e-16, 4.9721e-01, 5.8823e-01],\n",
      "        [4.0755e-01, 3.3592e-01, 4.9721e-01, 1.0000e-16, 5.3723e-02],\n",
      "        [6.5952e-01, 6.2277e-01, 5.8823e-01, 5.3723e-02, 1.0000e-16]])\n",
      "EQ : \n",
      "tensor([[True, True, True, True, True],\n",
      "        [True, True, True, True, True],\n",
      "        [True, True, True, True, True],\n",
      "        [True, True, True, True, True],\n",
      "        [True, True, True, True, True]])\n"
     ]
    },
    {
     "data": {
      "text/plain": [
       "tensor([[0.0000, 0.3666, 0.6540, 0.6384, 0.8121],\n",
       "        [0.3666, 0.0000, 0.9111, 0.5796, 0.7892],\n",
       "        [0.6540, 0.9111, 0.0000, 0.7051, 0.7670],\n",
       "        [0.6384, 0.5796, 0.7051, 0.0000, 0.2318],\n",
       "        [0.8121, 0.7892, 0.7670, 0.2318, 0.0000]])"
      ]
     },
     "execution_count": 144,
     "metadata": {},
     "output_type": "execute_result"
    }
   ],
   "source": [
    "_pairwise_distance(embeddings)"
   ]
  },
  {
   "cell_type": "code",
   "execution_count": 83,
   "id": "e78e6876-e03c-42f7-afef-d8dd98fedb6c",
   "metadata": {
    "tags": []
   },
   "outputs": [
    {
     "name": "stdout",
     "output_type": "stream",
     "text": [
      "Correlation Matrix : \n",
      "tensor([[1.0041, 0.3241, 0.6687, 0.6436, 1.1105],\n",
      "        [0.3241, 0.9661, 0.3784, 0.6407, 0.8678],\n",
      "        [0.6687, 0.3784, 0.4773, 0.5055, 0.8240],\n",
      "        [0.6436, 0.6407, 0.5055, 0.6477, 1.0105],\n",
      "        [1.1105, 0.8678, 0.8240, 1.0105, 1.6329]])\n",
      "Norm Matrix : \n",
      "tensor([1.0041, 0.9661, 0.4773, 0.6477, 1.6329])\n",
      "NORM UNSQUEEZE(1) : \n",
      "tensor([[1.0041],\n",
      "        [0.9661],\n",
      "        [0.4773],\n",
      "        [0.6477],\n",
      "        [1.6329]])\n",
      "NORM UNSQUEEZE(0) : \n",
      "tensor([[1.0041, 0.9661, 0.4773, 0.6477, 1.6329]])\n",
      "FACT CHECK tensor([1.0041, 0.9661, 0.4773, 0.6477, 1.6329])\n",
      "Dist Matrix before relu : \n",
      "tensor([[0.0000, 1.3220, 0.1441, 0.3647, 0.4161],\n",
      "        [1.3220, 0.0000, 0.6865, 0.3325, 0.8635],\n",
      "        [0.1441, 0.6865, 0.0000, 0.1140, 0.4623],\n",
      "        [0.3647, 0.3325, 0.1140, 0.0000, 0.2597],\n",
      "        [0.4161, 0.8635, 0.4623, 0.2597, 0.0000]])\n",
      "Dist Matrix After relu : \n",
      "tensor([[0.0000, 1.3220, 0.1441, 0.3647, 0.4161],\n",
      "        [1.3220, 0.0000, 0.6865, 0.3325, 0.8635],\n",
      "        [0.1441, 0.6865, 0.0000, 0.1140, 0.4623],\n",
      "        [0.3647, 0.3325, 0.1140, 0.0000, 0.2597],\n",
      "        [0.4161, 0.8635, 0.4623, 0.2597, 0.0000]])\n",
      "Mask : \n",
      "tensor([[1., 0., 0., 0., 0.],\n",
      "        [0., 1., 0., 0., 0.],\n",
      "        [0., 0., 1., 0., 0.],\n",
      "        [0., 0., 0., 1., 0.],\n",
      "        [0., 0., 0., 0., 1.]])\n",
      "Distance After +Mask : \n",
      "tensor([[1.0000e-16, 1.3220e+00, 1.4407e-01, 3.6468e-01, 4.1613e-01],\n",
      "        [1.3220e+00, 1.0000e-16, 6.8652e-01, 3.3247e-01, 8.6352e-01],\n",
      "        [1.4407e-01, 6.8652e-01, 1.0000e-16, 1.1403e-01, 4.6229e-01],\n",
      "        [3.6468e-01, 3.3247e-01, 1.1403e-01, 1.0000e-16, 2.5967e-01],\n",
      "        [4.1613e-01, 8.6352e-01, 4.6229e-01, 2.5967e-01, 1.0000e-16]])\n"
     ]
    },
    {
     "data": {
      "text/plain": [
       "tensor([[0.0000, 1.1498, 0.3796, 0.6039, 0.6451]])"
      ]
     },
     "execution_count": 83,
     "metadata": {},
     "output_type": "execute_result"
    }
   ],
   "source": [
    "_pairwise_distance(embeddings)[0:1,]"
   ]
  },
  {
   "cell_type": "code",
   "execution_count": 46,
   "id": "dd36ccb0-13cd-450e-bbb5-8387b94876c8",
   "metadata": {
    "tags": []
   },
   "outputs": [],
   "source": [
    "import numpy as np"
   ]
  },
  {
   "cell_type": "code",
   "execution_count": 64,
   "id": "fdc723e2-20a8-4459-9270-ac4cb6e16636",
   "metadata": {
    "tags": []
   },
   "outputs": [],
   "source": [
    "a = np.array(embeddings[0].cpu())\n",
    "b = np.array(embeddings[1].cpu())\n",
    "c = a-b"
   ]
  },
  {
   "cell_type": "code",
   "execution_count": 65,
   "id": "2f8b254f-e119-403f-a071-22988ac60cb7",
   "metadata": {
    "tags": []
   },
   "outputs": [
    {
     "data": {
      "text/plain": [
       "array([ 0.89680624, -0.7028398 , -0.15422863], dtype=float32)"
      ]
     },
     "execution_count": 65,
     "metadata": {},
     "output_type": "execute_result"
    }
   ],
   "source": [
    "c"
   ]
  },
  {
   "cell_type": "code",
   "execution_count": 66,
   "id": "70d5801c-c537-4ab8-b862-7fbfcd10d3c0",
   "metadata": {
    "tags": []
   },
   "outputs": [
    {
     "data": {
      "text/plain": [
       "0.03973782"
      ]
     },
     "execution_count": 66,
     "metadata": {},
     "output_type": "execute_result"
    }
   ],
   "source": [
    "np.sum(c)"
   ]
  },
  {
   "cell_type": "code",
   "execution_count": 67,
   "id": "ed6ef42f-7e2b-4849-be5b-c4322aebe1dc",
   "metadata": {
    "tags": []
   },
   "outputs": [
    {
     "data": {
      "text/plain": [
       "1.7538748"
      ]
     },
     "execution_count": 67,
     "metadata": {},
     "output_type": "execute_result"
    }
   ],
   "source": [
    "np.sum(np.abs(c))"
   ]
  },
  {
   "cell_type": "code",
   "execution_count": 68,
   "id": "eb548693-51ab-48eb-9cd1-93e9a84a72e1",
   "metadata": {
    "tags": []
   },
   "outputs": [
    {
     "data": {
      "text/plain": [
       "array([0.80426145, 0.49398378, 0.02378647], dtype=float32)"
      ]
     },
     "execution_count": 68,
     "metadata": {},
     "output_type": "execute_result"
    }
   ],
   "source": [
    "np.power(c,2)"
   ]
  },
  {
   "cell_type": "code",
   "execution_count": 70,
   "id": "472789e9-1038-48e5-bacf-2f86a6ceab2d",
   "metadata": {
    "tags": []
   },
   "outputs": [
    {
     "data": {
      "text/plain": [
       "1.1497964"
      ]
     },
     "execution_count": 70,
     "metadata": {},
     "output_type": "execute_result"
    }
   ],
   "source": [
    "np.sqrt(np.sum(np.square(c)))"
   ]
  },
  {
   "cell_type": "code",
   "execution_count": 96,
   "id": "f96c807c-ab9e-4fbb-af08-29b831f219ec",
   "metadata": {
    "tags": []
   },
   "outputs": [
    {
     "data": {
      "text/plain": [
       "tensor([[0.5145],\n",
       "        [0.8516],\n",
       "        [0.9675],\n",
       "        [0.5447],\n",
       "        [0.2865]])"
      ]
     },
     "execution_count": 96,
     "metadata": {},
     "output_type": "execute_result"
    }
   ],
   "source": [
    "a1 = torch.rand(5,1)\n",
    "a1"
   ]
  },
  {
   "cell_type": "code",
   "execution_count": 97,
   "id": "46e85593-3f8a-48e9-863e-868d09f5448a",
   "metadata": {
    "tags": []
   },
   "outputs": [
    {
     "data": {
      "text/plain": [
       "tensor([[0.0832, 0.7014, 0.5694, 0.4796, 0.0708],\n",
       "        [0.0416, 0.1154, 0.3853, 0.8826, 0.6110],\n",
       "        [0.6124, 0.2818, 0.1288, 0.9304, 0.4217],\n",
       "        [0.2345, 0.7804, 0.1424, 0.5926, 0.3617],\n",
       "        [0.9637, 0.0379, 0.8967, 0.9954, 0.9833]])"
      ]
     },
     "execution_count": 97,
     "metadata": {},
     "output_type": "execute_result"
    }
   ],
   "source": [
    "a2 = torch.rand(5,5)\n",
    "a2"
   ]
  },
  {
   "cell_type": "code",
   "execution_count": 98,
   "id": "f3bf6c63-3b1d-4493-afbf-c31fbe7ed895",
   "metadata": {
    "tags": []
   },
   "outputs": [
    {
     "data": {
      "text/plain": [
       "tensor([[0.5977, 1.2160, 1.0840, 0.9941, 0.5853],\n",
       "        [0.8932, 0.9669, 1.2368, 1.7342, 1.4625],\n",
       "        [1.5799, 1.2492, 1.0962, 1.8978, 1.3891],\n",
       "        [0.7791, 1.3251, 0.6870, 1.1373, 0.9063],\n",
       "        [1.2502, 0.3245, 1.1832, 1.2819, 1.2698]])"
      ]
     },
     "execution_count": 98,
     "metadata": {},
     "output_type": "execute_result"
    }
   ],
   "source": [
    "a1+a2"
   ]
  },
  {
   "cell_type": "code",
   "execution_count": 102,
   "id": "41cf612d-9eda-46b5-b494-861d135b6b66",
   "metadata": {
    "tags": []
   },
   "outputs": [
    {
     "data": {
      "text/plain": [
       "tensor([[0.0832, 0.7014, 0.5694, 0.4796, 0.0708],\n",
       "        [0.0416, 0.1154, 0.3853, 0.8826, 0.6110],\n",
       "        [0.6124, 0.2818, 0.1288, 0.9304, 0.4217],\n",
       "        [0.2345, 0.7804, 0.1424, 0.5926, 0.3617],\n",
       "        [0.9637, 0.0379, 0.8967, 0.9954, 0.9833]])"
      ]
     },
     "execution_count": 102,
     "metadata": {},
     "output_type": "execute_result"
    }
   ],
   "source": [
    "a2"
   ]
  },
  {
   "cell_type": "code",
   "execution_count": 111,
   "id": "3089effd-318d-481e-b58c-d6b06048191b",
   "metadata": {
    "tags": []
   },
   "outputs": [
    {
     "data": {
      "text/plain": [
       "tensor([[0.0000, 0.5861, 0.4407, 0.0000, 0.0000],\n",
       "        [0.0000, 0.0000, 0.2565, 0.2900, 0.0000],\n",
       "        [0.5293, 0.1664, 0.0000, 0.3377, 0.0000],\n",
       "        [0.1513, 0.6650, 0.0136, 0.0000, 0.0000],\n",
       "        [0.8805, 0.0000, 0.7679, 0.4027, 0.0000]])"
      ]
     },
     "execution_count": 111,
     "metadata": {},
     "output_type": "execute_result"
    }
   ],
   "source": [
    "a3 = a2 - a2.diag()\n",
    "a3 = F.relu(a3)\n",
    "a3"
   ]
  },
  {
   "cell_type": "code",
   "execution_count": 112,
   "id": "e1bcc24c-fe88-448e-b258-fe6a0c6af5fe",
   "metadata": {
    "tags": []
   },
   "outputs": [
    {
     "data": {
      "text/plain": [
       "tensor([[1., 0., 0., 1., 1.],\n",
       "        [1., 1., 0., 0., 1.],\n",
       "        [0., 0., 1., 0., 1.],\n",
       "        [0., 0., 0., 1., 1.],\n",
       "        [0., 1., 0., 0., 1.]])"
      ]
     },
     "execution_count": 112,
     "metadata": {},
     "output_type": "execute_result"
    }
   ],
   "source": [
    "mask = torch.eq(a3, 0.0).float()\n",
    "mask"
   ]
  },
  {
   "cell_type": "code",
   "execution_count": 113,
   "id": "7b98fe53-b18e-40a0-bf96-fa0dbc44fbe8",
   "metadata": {
    "tags": []
   },
   "outputs": [
    {
     "data": {
      "text/plain": [
       "tensor([[1.0000e-16, 5.8606e-01, 4.4066e-01, 1.0000e-16, 1.0000e-16],\n",
       "        [1.0000e-16, 1.0000e-16, 2.5648e-01, 2.8995e-01, 1.0000e-16],\n",
       "        [5.2926e-01, 1.6640e-01, 1.0000e-16, 3.3774e-01, 1.0000e-16],\n",
       "        [1.5129e-01, 6.6504e-01, 1.3589e-02, 1.0000e-16, 1.0000e-16],\n",
       "        [8.8054e-01, 1.0000e-16, 7.6794e-01, 4.0273e-01, 1.0000e-16]])"
      ]
     },
     "execution_count": 113,
     "metadata": {},
     "output_type": "execute_result"
    }
   ],
   "source": [
    "a4 = a3 + mask*1e-16\n",
    "a4"
   ]
  },
  {
   "cell_type": "code",
   "execution_count": 114,
   "id": "08a4a55b-ffa8-4ebb-b346-798f7f068afa",
   "metadata": {
    "tags": []
   },
   "outputs": [
    {
     "data": {
      "text/plain": [
       "tensor([[1.0000e-08, 7.6555e-01, 6.6382e-01, 1.0000e-08, 1.0000e-08],\n",
       "        [1.0000e-08, 1.0000e-08, 5.0644e-01, 5.3847e-01, 1.0000e-08],\n",
       "        [7.2750e-01, 4.0792e-01, 1.0000e-08, 5.8116e-01, 1.0000e-08],\n",
       "        [3.8895e-01, 8.1550e-01, 1.1657e-01, 1.0000e-08, 1.0000e-08],\n",
       "        [9.3837e-01, 1.0000e-08, 8.7632e-01, 6.3461e-01, 1.0000e-08]])"
      ]
     },
     "execution_count": 114,
     "metadata": {},
     "output_type": "execute_result"
    }
   ],
   "source": [
    "a5 = torch.sqrt(a4)\n",
    "a5"
   ]
  },
  {
   "cell_type": "code",
   "execution_count": 116,
   "id": "17a86448-c268-42c9-a9ef-1dd1418f737b",
   "metadata": {
    "tags": []
   },
   "outputs": [
    {
     "data": {
      "text/plain": [
       "tensor([[0., 1., 1., 0., 0.],\n",
       "        [0., 0., 1., 1., 0.],\n",
       "        [1., 1., 0., 1., 0.],\n",
       "        [1., 1., 1., 0., 0.],\n",
       "        [1., 0., 1., 1., 0.]])"
      ]
     },
     "execution_count": 116,
     "metadata": {},
     "output_type": "execute_result"
    }
   ],
   "source": [
    "(1.0 - mask)"
   ]
  },
  {
   "cell_type": "code",
   "execution_count": 115,
   "id": "fb8d1d70-6897-44f6-b90a-2eaf08cee33a",
   "metadata": {
    "tags": []
   },
   "outputs": [
    {
     "data": {
      "text/plain": [
       "tensor([[0.0000, 0.7655, 0.6638, 0.0000, 0.0000],\n",
       "        [0.0000, 0.0000, 0.5064, 0.5385, 0.0000],\n",
       "        [0.7275, 0.4079, 0.0000, 0.5812, 0.0000],\n",
       "        [0.3890, 0.8155, 0.1166, 0.0000, 0.0000],\n",
       "        [0.9384, 0.0000, 0.8763, 0.6346, 0.0000]])"
      ]
     },
     "execution_count": 115,
     "metadata": {},
     "output_type": "execute_result"
    }
   ],
   "source": [
    "a6 = a5 * (1.0 - mask)\n",
    "a6"
   ]
  },
  {
   "cell_type": "code",
   "execution_count": 119,
   "id": "1bedb9cf-4598-481b-af67-47c215ff1713",
   "metadata": {
    "tags": []
   },
   "outputs": [
    {
     "data": {
      "text/plain": [
       "tensor([[0., 0., 0., 0., 0.],\n",
       "        [0., 0., 0., 0., 0.],\n",
       "        [0., 0., 0., 0., 0.],\n",
       "        [0., 0., 0., 0., 0.],\n",
       "        [0., 0., 0., 0., 0.]])"
      ]
     },
     "execution_count": 119,
     "metadata": {},
     "output_type": "execute_result"
    }
   ],
   "source": [
    "ss = torch.zeros(5,5)\n",
    "ss"
   ]
  },
  {
   "cell_type": "code",
   "execution_count": 120,
   "id": "ca73dcf8-eb96-4591-8a63-b92713c83e23",
   "metadata": {
    "tags": []
   },
   "outputs": [
    {
     "data": {
      "text/plain": [
       "tensor([[0., 0., 0., 0., 0.],\n",
       "        [0., 0., 0., 0., 0.],\n",
       "        [0., 0., 0., 0., 0.],\n",
       "        [0., 0., 0., 0., 0.],\n",
       "        [0., 0., 0., 0., 0.]])"
      ]
     },
     "execution_count": 120,
     "metadata": {},
     "output_type": "execute_result"
    }
   ],
   "source": [
    "torch.sqrt(ss)"
   ]
  },
  {
   "cell_type": "code",
   "execution_count": 147,
   "id": "b1adf6d7-0aff-481d-8a8b-4e33dfb38bb9",
   "metadata": {
    "tags": []
   },
   "outputs": [
    {
     "data": {
      "text/plain": [
       "tensor([0.])"
      ]
     },
     "execution_count": 147,
     "metadata": {},
     "output_type": "execute_result"
    }
   ],
   "source": [
    "torch.sqrt(torch.zeros(1))"
   ]
  },
  {
   "cell_type": "code",
   "execution_count": 148,
   "id": "60fefb57-938d-4319-a626-3b6ebe7663bc",
   "metadata": {
    "tags": []
   },
   "outputs": [
    {
     "data": {
      "text/plain": [
       "tensor([1, 1, 2, 2, 3, 3, 3, 1, 1])"
      ]
     },
     "execution_count": 148,
     "metadata": {},
     "output_type": "execute_result"
    }
   ],
   "source": [
    "labels = torch.tensor([1,1,2,2,3,3,3,1,1])\n",
    "labels"
   ]
  },
  {
   "cell_type": "code",
   "execution_count": 149,
   "id": "82156613-962d-49e2-9d76-0b48ad0d509b",
   "metadata": {
    "tags": []
   },
   "outputs": [],
   "source": [
    "def _get_anchor_positive_triplet_mask(labels):\n",
    "    \"\"\"\n",
    "    Given labels of size (batch_size, ) \n",
    "    Return a 2D Mask : Where mask[Anchor, Positive] is True\n",
    "    iff Anchor and Positive \n",
    "    - Distinct \n",
    "    - Same Label\n",
    "    \n",
    "    Mask will omitted the self index (result 0)\n",
    "    label [1,1,2,2,3,1] \n",
    "    for item idx 0 will return [X(zero),1,0,0,0,1]\n",
    "    \"\"\"\n",
    "    # Device Select\n",
    "    device = torch.device(\"cuda:0\" if torch.cuda.is_available() else \"cpu\")\n",
    "    # Negative Mask\n",
    "    indices_not_equal = torch.eye(labels.shape[0]).to(device).byte() ^ 1\n",
    "\n",
    "    # Check if labels[i] == labels[j]\n",
    "    labels_equal = torch.unsqueeze(labels, 0) == torch.unsqueeze(labels, 1)\n",
    "    \n",
    "    mask = indices_not_equal * labels_equal\n",
    "\n",
    "    return mask"
   ]
  },
  {
   "cell_type": "code",
   "execution_count": 150,
   "id": "3de435a4-a1b9-45c3-9fc5-44c47276e1b7",
   "metadata": {
    "tags": []
   },
   "outputs": [
    {
     "data": {
      "text/plain": [
       "tensor([[0, 1, 0, 0, 0, 0, 0, 1, 1],\n",
       "        [1, 0, 0, 0, 0, 0, 0, 1, 1],\n",
       "        [0, 0, 0, 1, 0, 0, 0, 0, 0],\n",
       "        [0, 0, 1, 0, 0, 0, 0, 0, 0],\n",
       "        [0, 0, 0, 0, 0, 1, 1, 0, 0],\n",
       "        [0, 0, 0, 0, 1, 0, 1, 0, 0],\n",
       "        [0, 0, 0, 0, 1, 1, 0, 0, 0],\n",
       "        [1, 1, 0, 0, 0, 0, 0, 0, 1],\n",
       "        [1, 1, 0, 0, 0, 0, 0, 1, 0]], dtype=torch.uint8)"
      ]
     },
     "execution_count": 150,
     "metadata": {},
     "output_type": "execute_result"
    }
   ],
   "source": [
    "_get_anchor_positive_triplet_mask(labels)"
   ]
  },
  {
   "cell_type": "code",
   "execution_count": 151,
   "id": "680ff61c-82e4-4e20-8baa-71f89c1ba46b",
   "metadata": {
    "tags": []
   },
   "outputs": [],
   "source": [
    "def _get_anchor_negative_triplet_mask(labels):\n",
    "    # Return a 2D mask where mask[a, n] is True iff a and n have distinct labels.\n",
    "\n",
    "    # Check if labels[i] != labels[k]\n",
    "    labels_equal = torch.unsqueeze(labels, 0) == torch.unsqueeze(labels, 1)\n",
    "    mask = labels_equal ^ 1\n",
    "\n",
    "    return mask"
   ]
  },
  {
   "cell_type": "code",
   "execution_count": 152,
   "id": "4cf47c17-266e-41c6-978f-7f99366d8f5e",
   "metadata": {
    "tags": []
   },
   "outputs": [
    {
     "data": {
      "text/plain": [
       "tensor([[0, 0, 1, 1, 1, 1, 1, 0, 0],\n",
       "        [0, 0, 1, 1, 1, 1, 1, 0, 0],\n",
       "        [1, 1, 0, 0, 1, 1, 1, 1, 1],\n",
       "        [1, 1, 0, 0, 1, 1, 1, 1, 1],\n",
       "        [1, 1, 1, 1, 0, 0, 0, 1, 1],\n",
       "        [1, 1, 1, 1, 0, 0, 0, 1, 1],\n",
       "        [1, 1, 1, 1, 0, 0, 0, 1, 1],\n",
       "        [0, 0, 1, 1, 1, 1, 1, 0, 0],\n",
       "        [0, 0, 1, 1, 1, 1, 1, 0, 0]])"
      ]
     },
     "execution_count": 152,
     "metadata": {},
     "output_type": "execute_result"
    }
   ],
   "source": [
    "_get_anchor_negative_triplet_mask(labels)"
   ]
  },
  {
   "cell_type": "code",
   "execution_count": null,
   "id": "399baf41-6fc7-4430-8991-1a9f48b96dea",
   "metadata": {},
   "outputs": [],
   "source": []
  }
 ],
 "metadata": {
  "kernelspec": {
   "display_name": "Python 3 (ipykernel)",
   "language": "python",
   "name": "python3"
  },
  "language_info": {
   "codemirror_mode": {
    "name": "ipython",
    "version": 3
   },
   "file_extension": ".py",
   "mimetype": "text/x-python",
   "name": "python",
   "nbconvert_exporter": "python",
   "pygments_lexer": "ipython3",
   "version": "3.8.10"
  }
 },
 "nbformat": 4,
 "nbformat_minor": 5
}
