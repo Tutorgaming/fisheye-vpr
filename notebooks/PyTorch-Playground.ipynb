{
 "cells": [
  {
   "cell_type": "code",
   "execution_count": 4,
   "id": "d1a3329f-2059-490a-b674-555b3981daac",
   "metadata": {
    "tags": []
   },
   "outputs": [],
   "source": [
    "import torch\n",
    "import torch.nn.functional as F\n"
   ]
  },
  {
   "cell_type": "code",
   "execution_count": 5,
   "id": "38c9f641-c542-4ba4-adb6-a1a43814aa97",
   "metadata": {
    "tags": []
   },
   "outputs": [],
   "source": [
    "tensor = torch.tensor([1.11, 2.22,3.33])"
   ]
  },
  {
   "cell_type": "code",
   "execution_count": 6,
   "id": "f6da8279-8054-4710-8838-97385de5361f",
   "metadata": {
    "tags": []
   },
   "outputs": [
    {
     "name": "stdout",
     "output_type": "stream",
     "text": [
      "tensor([1.1100, 2.2200, 3.3300])\n",
      "size : torch.Size([3])\n"
     ]
    }
   ],
   "source": [
    "print(tensor)\n",
    "print(f\"size : {tensor.shape}\")"
   ]
  },
  {
   "cell_type": "code",
   "execution_count": 7,
   "id": "a0e40916-e132-40e2-8685-71deeb864f87",
   "metadata": {
    "tags": []
   },
   "outputs": [
    {
     "name": "stdout",
     "output_type": "stream",
     "text": [
      "tensor([[1.1100],\n",
      "        [2.2200],\n",
      "        [3.3300]])\n",
      "size : torch.Size([3, 1])\n"
     ]
    }
   ],
   "source": [
    "# Unsqueeze (-1)\n",
    "tensor_usq = tensor.unsqueeze(-1)\n",
    "print(tensor_usq)\n",
    "print(f\"size : {tensor_usq.shape}\")"
   ]
  },
  {
   "cell_type": "code",
   "execution_count": 8,
   "id": "e1abda89-9277-4b88-b3e6-c4cfef80a07e",
   "metadata": {
    "tags": []
   },
   "outputs": [
    {
     "name": "stdout",
     "output_type": "stream",
     "text": [
      "tensor([[1.1100, 2.2200, 3.3300]])\n"
     ]
    }
   ],
   "source": [
    "\n",
    "tensor_usq0 = tensor.unsqueeze(0)\n",
    "print(tensor_usq0)"
   ]
  },
  {
   "cell_type": "code",
   "execution_count": 9,
   "id": "2f242f34-23f7-4d0c-b23e-8a5ca7a192d9",
   "metadata": {
    "tags": []
   },
   "outputs": [
    {
     "name": "stdout",
     "output_type": "stream",
     "text": [
      "tensor([[1.1100],\n",
      "        [2.2200],\n",
      "        [3.3300]])\n"
     ]
    }
   ],
   "source": [
    "tensor_usq1 = tensor.unsqueeze(1)\n",
    "print(tensor_usq1)"
   ]
  },
  {
   "cell_type": "code",
   "execution_count": 10,
   "id": "c7e6010a-9f5b-4f6f-a36b-0f16a8e78939",
   "metadata": {
    "tags": []
   },
   "outputs": [
    {
     "name": "stdout",
     "output_type": "stream",
     "text": [
      "tensor([[[1.1100]],\n",
      "\n",
      "        [[2.2200]],\n",
      "\n",
      "        [[3.3300]]])\n"
     ]
    }
   ],
   "source": [
    "tensor_view = tensor.view(3,1,1)\n",
    "print(tensor_view)"
   ]
  },
  {
   "cell_type": "code",
   "execution_count": 11,
   "id": "4d908fcc-1b73-4ce6-8c5a-e25ebe07de93",
   "metadata": {
    "tags": []
   },
   "outputs": [
    {
     "name": "stdout",
     "output_type": "stream",
     "text": [
      "tensor([[[1.1100]],\n",
      "\n",
      "        [[2.2200]],\n",
      "\n",
      "        [[3.3300]]])\n"
     ]
    }
   ],
   "source": [
    "double_usq = tensor.unsqueeze(-1).unsqueeze(-1)\n",
    "print(double_usq)"
   ]
  },
  {
   "cell_type": "code",
   "execution_count": 12,
   "id": "b259b77d-c215-4487-9fca-927db014f733",
   "metadata": {
    "tags": []
   },
   "outputs": [],
   "source": [
    "sift_feature = 5\n",
    "cluster = 3\n",
    "my_rand = torch.rand(cluster, sift_feature)"
   ]
  },
  {
   "cell_type": "code",
   "execution_count": 13,
   "id": "fd0ae852-3e73-47f5-878c-3b1b1e924e84",
   "metadata": {
    "tags": []
   },
   "outputs": [
    {
     "data": {
      "text/plain": [
       "tensor([[7.2815e-01, 1.5869e-01, 1.4870e-02, 8.7533e-01, 1.5603e-01],\n",
       "        [8.9327e-01, 6.3838e-01, 6.6284e-01, 8.2633e-02, 3.2932e-01],\n",
       "        [7.4492e-01, 2.0105e-04, 8.8861e-01, 1.4424e-04, 5.6391e-01]])"
      ]
     },
     "execution_count": 13,
     "metadata": {},
     "output_type": "execute_result"
    }
   ],
   "source": [
    "my_rand"
   ]
  },
  {
   "cell_type": "code",
   "execution_count": 14,
   "id": "f2d0830c-b09a-412c-8220-a1866c5615a8",
   "metadata": {
    "tags": []
   },
   "outputs": [
    {
     "name": "stdout",
     "output_type": "stream",
     "text": [
      "tensor([[[7.2815e-01],\n",
      "         [1.5869e-01],\n",
      "         [1.4870e-02],\n",
      "         [8.7533e-01],\n",
      "         [1.5603e-01]],\n",
      "\n",
      "        [[8.9327e-01],\n",
      "         [6.3838e-01],\n",
      "         [6.6284e-01],\n",
      "         [8.2633e-02],\n",
      "         [3.2932e-01]],\n",
      "\n",
      "        [[7.4492e-01],\n",
      "         [2.0105e-04],\n",
      "         [8.8861e-01],\n",
      "         [1.4424e-04],\n",
      "         [5.6391e-01]]])\n",
      "torch.Size([3, 5, 1])\n"
     ]
    }
   ],
   "source": [
    "mb = my_rand.unsqueeze(-1)\n",
    "print(mb)\n",
    "print(mb.size())"
   ]
  },
  {
   "cell_type": "code",
   "execution_count": 15,
   "id": "d9edb69c-bbe6-4de7-a117-967e30237c87",
   "metadata": {
    "tags": []
   },
   "outputs": [
    {
     "name": "stdout",
     "output_type": "stream",
     "text": [
      "tensor([[[[7.2815e-01]],\n",
      "\n",
      "         [[1.5869e-01]],\n",
      "\n",
      "         [[1.4870e-02]],\n",
      "\n",
      "         [[8.7533e-01]],\n",
      "\n",
      "         [[1.5603e-01]]],\n",
      "\n",
      "\n",
      "        [[[8.9327e-01]],\n",
      "\n",
      "         [[6.3838e-01]],\n",
      "\n",
      "         [[6.6284e-01]],\n",
      "\n",
      "         [[8.2633e-02]],\n",
      "\n",
      "         [[3.2932e-01]]],\n",
      "\n",
      "\n",
      "        [[[7.4492e-01]],\n",
      "\n",
      "         [[2.0105e-04]],\n",
      "\n",
      "         [[8.8861e-01]],\n",
      "\n",
      "         [[1.4424e-04]],\n",
      "\n",
      "         [[5.6391e-01]]]])\n",
      "torch.Size([3, 5, 1, 1])\n"
     ]
    }
   ],
   "source": [
    "mbb = my_rand.unsqueeze(-1).unsqueeze(-1)\n",
    "print(mbb)\n",
    "print(mbb.size())"
   ]
  },
  {
   "cell_type": "code",
   "execution_count": 16,
   "id": "fe1ef7d1-11ac-48fd-b297-30db0bcb98a8",
   "metadata": {
    "tags": []
   },
   "outputs": [],
   "source": [
    "import torchinfo\n",
    "from torchvision.models import resnet18\n",
    "import torch.nn as nn\n",
    "import torch.nn.functional as F"
   ]
  },
  {
   "cell_type": "code",
   "execution_count": 17,
   "id": "cce5779b-f43c-4a19-a1b6-eaad1a1c4db9",
   "metadata": {
    "tags": []
   },
   "outputs": [
    {
     "name": "stderr",
     "output_type": "stream",
     "text": [
      "/usr/local/lib/python3.8/dist-packages/torchvision/models/_utils.py:208: UserWarning: The parameter 'pretrained' is deprecated since 0.13 and may be removed in the future, please use 'weights' instead.\n",
      "  warnings.warn(\n",
      "/usr/local/lib/python3.8/dist-packages/torchvision/models/_utils.py:223: UserWarning: Arguments other than a weight enum or `None` for 'weights' are deprecated since 0.13 and may be removed in the future. The current behavior is equivalent to passing `weights=ResNet18_Weights.IMAGENET1K_V1`. You can also use `weights=ResNet18_Weights.DEFAULT` to get the most up-to-date weights.\n",
      "  warnings.warn(msg)\n",
      "Downloading: \"https://download.pytorch.org/models/resnet18-f37072fd.pth\" to /root/.cache/torch/hub/checkpoints/resnet18-f37072fd.pth\n",
      "100%|██████████| 44.7M/44.7M [00:04<00:00, 11.6MB/s]\n"
     ]
    }
   ],
   "source": [
    "encoder = resnet18(pretrained=True)\n",
    "base_model = nn.Sequential(\n",
    "    encoder.conv1,\n",
    "    encoder.bn1,\n",
    "    encoder.relu,\n",
    "    encoder.maxpool,\n",
    "    encoder.layer1,\n",
    "    encoder.layer2,\n",
    "    encoder.layer3,\n",
    "    encoder.layer4,\n",
    ")"
   ]
  },
  {
   "cell_type": "code",
   "execution_count": 18,
   "id": "e786d7d8-bde7-4dff-8a5e-f3a239755cae",
   "metadata": {
    "tags": []
   },
   "outputs": [
    {
     "name": "stdout",
     "output_type": "stream",
     "text": [
      "torch.Size([512])\n"
     ]
    }
   ],
   "source": [
    "dim = list(base_model.parameters())[-1].shape # last channels (512)\n",
    "print(dim)\n"
   ]
  },
  {
   "cell_type": "code",
   "execution_count": 19,
   "id": "880847b9-a9a2-4e0f-8c87-fb0188180201",
   "metadata": {
    "tags": []
   },
   "outputs": [
    {
     "name": "stderr",
     "output_type": "stream",
     "text": [
      "/usr/local/lib/python3.8/dist-packages/torchinfo/torchinfo.py:477: UserWarning: TypedStorage is deprecated. It will be removed in the future and UntypedStorage will be the only storage class. This should only matter to you if you are using storages directly.  To access UntypedStorage directly, use tensor.untyped_storage() instead of tensor.storage()\n",
      "  action_fn=lambda data: sys.getsizeof(data.storage()),\n",
      "/usr/local/lib/python3.8/dist-packages/torch/storage.py:665: UserWarning: TypedStorage is deprecated. It will be removed in the future and UntypedStorage will be the only storage class. This should only matter to you if you are using storages directly.  To access UntypedStorage directly, use tensor.untyped_storage() instead of tensor.storage()\n",
      "  return super().__sizeof__() + self.nbytes()\n"
     ]
    },
    {
     "data": {
      "text/plain": [
       "==========================================================================================\n",
       "Layer (type:depth-idx)                   Output Shape              Param #\n",
       "==========================================================================================\n",
       "Sequential                               [1, 512, 4, 4]            --\n",
       "├─Conv2d: 1-1                            [1, 64, 64, 64]           9,408\n",
       "├─BatchNorm2d: 1-2                       [1, 64, 64, 64]           128\n",
       "├─ReLU: 1-3                              [1, 64, 64, 64]           --\n",
       "├─MaxPool2d: 1-4                         [1, 64, 32, 32]           --\n",
       "├─Sequential: 1-5                        [1, 64, 32, 32]           --\n",
       "│    └─BasicBlock: 2-1                   [1, 64, 32, 32]           --\n",
       "│    │    └─Conv2d: 3-1                  [1, 64, 32, 32]           36,864\n",
       "│    │    └─BatchNorm2d: 3-2             [1, 64, 32, 32]           128\n",
       "│    │    └─ReLU: 3-3                    [1, 64, 32, 32]           --\n",
       "│    │    └─Conv2d: 3-4                  [1, 64, 32, 32]           36,864\n",
       "│    │    └─BatchNorm2d: 3-5             [1, 64, 32, 32]           128\n",
       "│    │    └─ReLU: 3-6                    [1, 64, 32, 32]           --\n",
       "│    └─BasicBlock: 2-2                   [1, 64, 32, 32]           --\n",
       "│    │    └─Conv2d: 3-7                  [1, 64, 32, 32]           36,864\n",
       "│    │    └─BatchNorm2d: 3-8             [1, 64, 32, 32]           128\n",
       "│    │    └─ReLU: 3-9                    [1, 64, 32, 32]           --\n",
       "│    │    └─Conv2d: 3-10                 [1, 64, 32, 32]           36,864\n",
       "│    │    └─BatchNorm2d: 3-11            [1, 64, 32, 32]           128\n",
       "│    │    └─ReLU: 3-12                   [1, 64, 32, 32]           --\n",
       "├─Sequential: 1-6                        [1, 128, 16, 16]          --\n",
       "│    └─BasicBlock: 2-3                   [1, 128, 16, 16]          --\n",
       "│    │    └─Conv2d: 3-13                 [1, 128, 16, 16]          73,728\n",
       "│    │    └─BatchNorm2d: 3-14            [1, 128, 16, 16]          256\n",
       "│    │    └─ReLU: 3-15                   [1, 128, 16, 16]          --\n",
       "│    │    └─Conv2d: 3-16                 [1, 128, 16, 16]          147,456\n",
       "│    │    └─BatchNorm2d: 3-17            [1, 128, 16, 16]          256\n",
       "│    │    └─Sequential: 3-18             [1, 128, 16, 16]          8,448\n",
       "│    │    └─ReLU: 3-19                   [1, 128, 16, 16]          --\n",
       "│    └─BasicBlock: 2-4                   [1, 128, 16, 16]          --\n",
       "│    │    └─Conv2d: 3-20                 [1, 128, 16, 16]          147,456\n",
       "│    │    └─BatchNorm2d: 3-21            [1, 128, 16, 16]          256\n",
       "│    │    └─ReLU: 3-22                   [1, 128, 16, 16]          --\n",
       "│    │    └─Conv2d: 3-23                 [1, 128, 16, 16]          147,456\n",
       "│    │    └─BatchNorm2d: 3-24            [1, 128, 16, 16]          256\n",
       "│    │    └─ReLU: 3-25                   [1, 128, 16, 16]          --\n",
       "├─Sequential: 1-7                        [1, 256, 8, 8]            --\n",
       "│    └─BasicBlock: 2-5                   [1, 256, 8, 8]            --\n",
       "│    │    └─Conv2d: 3-26                 [1, 256, 8, 8]            294,912\n",
       "│    │    └─BatchNorm2d: 3-27            [1, 256, 8, 8]            512\n",
       "│    │    └─ReLU: 3-28                   [1, 256, 8, 8]            --\n",
       "│    │    └─Conv2d: 3-29                 [1, 256, 8, 8]            589,824\n",
       "│    │    └─BatchNorm2d: 3-30            [1, 256, 8, 8]            512\n",
       "│    │    └─Sequential: 3-31             [1, 256, 8, 8]            33,280\n",
       "│    │    └─ReLU: 3-32                   [1, 256, 8, 8]            --\n",
       "│    └─BasicBlock: 2-6                   [1, 256, 8, 8]            --\n",
       "│    │    └─Conv2d: 3-33                 [1, 256, 8, 8]            589,824\n",
       "│    │    └─BatchNorm2d: 3-34            [1, 256, 8, 8]            512\n",
       "│    │    └─ReLU: 3-35                   [1, 256, 8, 8]            --\n",
       "│    │    └─Conv2d: 3-36                 [1, 256, 8, 8]            589,824\n",
       "│    │    └─BatchNorm2d: 3-37            [1, 256, 8, 8]            512\n",
       "│    │    └─ReLU: 3-38                   [1, 256, 8, 8]            --\n",
       "├─Sequential: 1-8                        [1, 512, 4, 4]            --\n",
       "│    └─BasicBlock: 2-7                   [1, 512, 4, 4]            --\n",
       "│    │    └─Conv2d: 3-39                 [1, 512, 4, 4]            1,179,648\n",
       "│    │    └─BatchNorm2d: 3-40            [1, 512, 4, 4]            1,024\n",
       "│    │    └─ReLU: 3-41                   [1, 512, 4, 4]            --\n",
       "│    │    └─Conv2d: 3-42                 [1, 512, 4, 4]            2,359,296\n",
       "│    │    └─BatchNorm2d: 3-43            [1, 512, 4, 4]            1,024\n",
       "│    │    └─Sequential: 3-44             [1, 512, 4, 4]            132,096\n",
       "│    │    └─ReLU: 3-45                   [1, 512, 4, 4]            --\n",
       "│    └─BasicBlock: 2-8                   [1, 512, 4, 4]            --\n",
       "│    │    └─Conv2d: 3-46                 [1, 512, 4, 4]            2,359,296\n",
       "│    │    └─BatchNorm2d: 3-47            [1, 512, 4, 4]            1,024\n",
       "│    │    └─ReLU: 3-48                   [1, 512, 4, 4]            --\n",
       "│    │    └─Conv2d: 3-49                 [1, 512, 4, 4]            2,359,296\n",
       "│    │    └─BatchNorm2d: 3-50            [1, 512, 4, 4]            1,024\n",
       "│    │    └─ReLU: 3-51                   [1, 512, 4, 4]            --\n",
       "==========================================================================================\n",
       "Total params: 11,176,512\n",
       "Trainable params: 11,176,512\n",
       "Non-trainable params: 0\n",
       "Total mult-adds (M): 592.19\n",
       "==========================================================================================\n",
       "Input size (MB): 0.20\n",
       "Forward/backward pass size (MB): 12.98\n",
       "Params size (MB): 44.71\n",
       "Estimated Total Size (MB): 57.88\n",
       "=========================================================================================="
      ]
     },
     "execution_count": 19,
     "metadata": {},
     "output_type": "execute_result"
    }
   ],
   "source": [
    "torchinfo.summary(base_model.cuda(), input_size=(1,3,128,128))"
   ]
  },
  {
   "cell_type": "code",
   "execution_count": 20,
   "id": "02290262-d600-4ce8-a08d-533ed827a9fe",
   "metadata": {
    "tags": []
   },
   "outputs": [
    {
     "data": {
      "text/plain": [
       "[1, 512]"
      ]
     },
     "execution_count": 20,
     "metadata": {},
     "output_type": "execute_result"
    }
   ],
   "source": [
    "[1,512,4,4][0:2]"
   ]
  },
  {
   "cell_type": "code",
   "execution_count": 21,
   "id": "2ddcbccd-bf2c-4264-8186-dd3f15a7d31f",
   "metadata": {
    "tags": []
   },
   "outputs": [
    {
     "name": "stdout",
     "output_type": "stream",
     "text": [
      "torch.Size([1, 512, 16])\n"
     ]
    }
   ],
   "source": [
    "new = torch.rand(1,512,4,4)\n",
    "print(new.view(1,512,-1).shape)"
   ]
  },
  {
   "cell_type": "code",
   "execution_count": 22,
   "id": "2498143e-7883-447a-b3f4-f08378b04caf",
   "metadata": {
    "tags": []
   },
   "outputs": [],
   "source": [
    "my_conv = nn.Conv2d(\n",
    "            512, \n",
    "            6, \n",
    "            kernel_size=(1, 1), \n",
    "            bias=True\n",
    "        )"
   ]
  },
  {
   "cell_type": "code",
   "execution_count": 23,
   "id": "a689b7b0-df76-46a2-9dfb-b26c1c91b7c1",
   "metadata": {
    "tags": []
   },
   "outputs": [],
   "source": [
    "import torchinfo"
   ]
  },
  {
   "cell_type": "code",
   "execution_count": 24,
   "id": "8d3ab9fc-226b-47c1-9e6a-7e6411d0c6c1",
   "metadata": {
    "tags": []
   },
   "outputs": [
    {
     "data": {
      "text/plain": [
       "==========================================================================================\n",
       "Layer (type:depth-idx)                   Output Shape              Param #\n",
       "==========================================================================================\n",
       "Conv2d                                   [1, 6, 4, 4]              3,078\n",
       "==========================================================================================\n",
       "Total params: 3,078\n",
       "Trainable params: 3,078\n",
       "Non-trainable params: 0\n",
       "Total mult-adds (M): 0.05\n",
       "==========================================================================================\n",
       "Input size (MB): 0.03\n",
       "Forward/backward pass size (MB): 0.00\n",
       "Params size (MB): 0.01\n",
       "Estimated Total Size (MB): 0.05\n",
       "=========================================================================================="
      ]
     },
     "execution_count": 24,
     "metadata": {},
     "output_type": "execute_result"
    }
   ],
   "source": [
    "torchinfo.summary(my_conv.cuda(), input_size=(1,512,4,4))"
   ]
  },
  {
   "cell_type": "code",
   "execution_count": 25,
   "id": "f223d363-8e9a-4b70-abe8-0ab0435e8efe",
   "metadata": {
    "tags": []
   },
   "outputs": [
    {
     "name": "stdout",
     "output_type": "stream",
     "text": [
      "tensor([[[0.7852, 0.5784, 0.1528, 0.4612, 0.7106, 0.5171, 0.8022, 0.5683,\n",
      "          0.7150, 0.1212, 0.4636, 0.8589, 0.5574, 0.8001, 0.0434, 0.2428],\n",
      "         [0.9871, 0.6572, 0.7927, 0.8297, 0.9227, 0.6970, 0.4442, 0.6385,\n",
      "          0.2318, 0.9802, 0.3872, 0.2767, 0.4034, 0.8627, 0.9311, 0.5454],\n",
      "         [0.0037, 0.0264, 0.3679, 0.9835, 0.1493, 0.4445, 0.0636, 0.9144,\n",
      "          0.8475, 0.0130, 0.5486, 0.5653, 0.5115, 0.3440, 0.8899, 0.7220],\n",
      "         [0.9174, 0.0590, 0.3086, 0.2512, 0.4556, 0.5660, 0.3144, 0.1915,\n",
      "          0.4945, 0.5386, 0.8707, 0.0412, 0.9870, 0.0501, 0.2896, 0.1599],\n",
      "         [0.2586, 0.3623, 0.6896, 0.8461, 0.9263, 0.3250, 0.3942, 0.6331,\n",
      "          0.8401, 0.4188, 0.1729, 0.2023, 0.7900, 0.3431, 0.9115, 0.6900],\n",
      "         [0.6423, 0.7802, 0.9591, 0.6700, 0.8479, 0.6112, 0.4812, 0.1818,\n",
      "          0.0136, 0.6040, 0.6598, 0.5944, 0.3216, 0.4885, 0.9683, 0.4388]]])\n"
     ]
    }
   ],
   "source": [
    "ss = torch.rand(1,6,4,4).view(1,6,-1)\n",
    "print(ss)"
   ]
  },
  {
   "cell_type": "code",
   "execution_count": 26,
   "id": "6b4f02f6-a66e-4c13-9d41-3c4d0fdc994a",
   "metadata": {
    "tags": []
   },
   "outputs": [
    {
     "data": {
      "text/plain": [
       "torch.Size([1, 6, 16])"
      ]
     },
     "execution_count": 26,
     "metadata": {},
     "output_type": "execute_result"
    }
   ],
   "source": [
    "ss.shape"
   ]
  },
  {
   "cell_type": "code",
   "execution_count": 27,
   "id": "304454b1-7528-40f8-bf6e-e884cbe14e5d",
   "metadata": {
    "tags": []
   },
   "outputs": [
    {
     "data": {
      "text/plain": [
       "16"
      ]
     },
     "execution_count": 27,
     "metadata": {},
     "output_type": "execute_result"
    }
   ],
   "source": [
    "ss.size(-1)"
   ]
  },
  {
   "cell_type": "code",
   "execution_count": 28,
   "id": "8a2f39f1-0a73-4e95-ad5d-1524dd8e63b4",
   "metadata": {
    "tags": []
   },
   "outputs": [
    {
     "data": {
      "text/plain": [
       "tensor([[[1., 1., 1., 1., 1., 1., 1., 1., 1., 1., 1., 1., 1., 1., 1., 1.],\n",
       "         [1., 1., 1., 1., 1., 1., 1., 1., 1., 1., 1., 1., 1., 1., 1., 1.],\n",
       "         [1., 1., 1., 1., 1., 1., 1., 1., 1., 1., 1., 1., 1., 1., 1., 1.],\n",
       "         [1., 1., 1., 1., 1., 1., 1., 1., 1., 1., 1., 1., 1., 1., 1., 1.],\n",
       "         [1., 1., 1., 1., 1., 1., 1., 1., 1., 1., 1., 1., 1., 1., 1., 1.],\n",
       "         [1., 1., 1., 1., 1., 1., 1., 1., 1., 1., 1., 1., 1., 1., 1., 1.]]])"
      ]
     },
     "execution_count": 28,
     "metadata": {},
     "output_type": "execute_result"
    }
   ],
   "source": [
    "F.softmax(ss, dim=0)"
   ]
  },
  {
   "cell_type": "code",
   "execution_count": 29,
   "id": "5a0782d6-9a19-43cd-9902-0fc2c1f0453f",
   "metadata": {
    "tags": []
   },
   "outputs": [],
   "source": [
    "sss = F.softmax(ss, dim=1)"
   ]
  },
  {
   "cell_type": "code",
   "execution_count": 30,
   "id": "618fc9ee-2e9c-4ac9-ba88-7c2f18d3b00c",
   "metadata": {
    "tags": []
   },
   "outputs": [
    {
     "data": {
      "text/plain": [
       "tensor([[[0.1894, 0.1893, 0.1081, 0.1308, 0.1675, 0.1639, 0.2392, 0.1690,\n",
       "          0.1927, 0.1144, 0.1543, 0.2480, 0.1562, 0.2205, 0.0837, 0.1304],\n",
       "         [0.2318, 0.2049, 0.2049, 0.1891, 0.2071, 0.1962, 0.1672, 0.1812,\n",
       "          0.1188, 0.2700, 0.1429, 0.1386, 0.1339, 0.2347, 0.2034, 0.1765],\n",
       "         [0.0867, 0.1090, 0.1340, 0.2206, 0.0956, 0.1524, 0.1143, 0.2388,\n",
       "          0.2200, 0.1026, 0.1680, 0.1849, 0.1492, 0.1397, 0.1952, 0.2106],\n",
       "         [0.2161, 0.1126, 0.1263, 0.1060, 0.1298, 0.1721, 0.1468, 0.1159,\n",
       "          0.1546, 0.1736, 0.2318, 0.1095, 0.2401, 0.1041, 0.1071, 0.1200],\n",
       "         [0.1119, 0.1525, 0.1848, 0.1922, 0.2078, 0.1353, 0.1590, 0.1803,\n",
       "          0.2184, 0.1540, 0.1154, 0.1286, 0.1971, 0.1396, 0.1995, 0.2039],\n",
       "         [0.1642, 0.2317, 0.2420, 0.1612, 0.1922, 0.1801, 0.1735, 0.1148,\n",
       "          0.0955, 0.1853, 0.1877, 0.1904, 0.1234, 0.1614, 0.2111, 0.1586]]])"
      ]
     },
     "execution_count": 30,
     "metadata": {},
     "output_type": "execute_result"
    }
   ],
   "source": [
    "sss"
   ]
  },
  {
   "cell_type": "code",
   "execution_count": 31,
   "id": "3dfafef8-3923-4e1a-b807-b9fc8d3d1a45",
   "metadata": {
    "tags": []
   },
   "outputs": [
    {
     "name": "stdout",
     "output_type": "stream",
     "text": [
      "tensor([[[1., 2., 3.]],\n",
      "\n",
      "        [[4., 5., 6.]]], dtype=torch.float64)\n",
      "torch.Size([2, 1, 3])\n"
     ]
    }
   ],
   "source": [
    "bb = torch.tensor([\n",
    "    [[1,2,3]],\n",
    "    [[4,5,6]]\n",
    "],dtype=float)\n",
    "print(bb)\n",
    "print(bb.shape)"
   ]
  },
  {
   "cell_type": "code",
   "execution_count": 32,
   "id": "2e64a58b-2de5-4fa1-8601-f58274ca5e33",
   "metadata": {
    "tags": []
   },
   "outputs": [
    {
     "data": {
      "text/plain": [
       "tensor([[[0.1894, 0.1893, 0.1081, 0.1308, 0.1675, 0.1639, 0.2392, 0.1690,\n",
       "          0.1927, 0.1144, 0.1543, 0.2480, 0.1562, 0.2205, 0.0837, 0.1304],\n",
       "         [0.2318, 0.2049, 0.2049, 0.1891, 0.2071, 0.1962, 0.1672, 0.1812,\n",
       "          0.1188, 0.2700, 0.1429, 0.1386, 0.1339, 0.2347, 0.2034, 0.1765],\n",
       "         [0.0867, 0.1090, 0.1340, 0.2206, 0.0956, 0.1524, 0.1143, 0.2388,\n",
       "          0.2200, 0.1026, 0.1680, 0.1849, 0.1492, 0.1397, 0.1952, 0.2106],\n",
       "         [0.2161, 0.1126, 0.1263, 0.1060, 0.1298, 0.1721, 0.1468, 0.1159,\n",
       "          0.1546, 0.1736, 0.2318, 0.1095, 0.2401, 0.1041, 0.1071, 0.1200],\n",
       "         [0.1119, 0.1525, 0.1848, 0.1922, 0.2078, 0.1353, 0.1590, 0.1803,\n",
       "          0.2184, 0.1540, 0.1154, 0.1286, 0.1971, 0.1396, 0.1995, 0.2039],\n",
       "         [0.1642, 0.2317, 0.2420, 0.1612, 0.1922, 0.1801, 0.1735, 0.1148,\n",
       "          0.0955, 0.1853, 0.1877, 0.1904, 0.1234, 0.1614, 0.2111, 0.1586]]])"
      ]
     },
     "execution_count": 32,
     "metadata": {},
     "output_type": "execute_result"
    }
   ],
   "source": [
    "F.softmax(ss, dim=1)"
   ]
  },
  {
   "cell_type": "code",
   "execution_count": 33,
   "id": "455ed132-11d3-4f68-a5db-94684a479aca",
   "metadata": {
    "tags": []
   },
   "outputs": [
    {
     "data": {
      "text/plain": [
       "0.9999"
      ]
     },
     "execution_count": 33,
     "metadata": {},
     "output_type": "execute_result"
    }
   ],
   "source": [
    "0.0900+0.2447+0.6652"
   ]
  },
  {
   "cell_type": "code",
   "execution_count": 34,
   "id": "a6a2ac18-4c6e-4bb6-a570-0deebc3626b5",
   "metadata": {},
   "outputs": [],
   "source": [
    "class NetVLAD(nn.Module):\n",
    "    \"\"\"NetVLAD layer implementation\"\"\"\n",
    "\n",
    "    def __init__(self, num_clusters=64, dim=128, \n",
    "                 normalize_input=True, vladv2=False):\n",
    "        \"\"\"\n",
    "        Args:\n",
    "            num_clusters : int\n",
    "                The number of clusters\n",
    "            dim : int\n",
    "                Dimension of descriptors\n",
    "            alpha : float\n",
    "                Parameter of initialization. Larger value is harder assignment.\n",
    "            normalize_input : bool\n",
    "                If true, descriptor-wise L2 normalization is applied to input.\n",
    "            vladv2 : bool\n",
    "                If true, use vladv2 otherwise use vladv1\n",
    "        \"\"\"\n",
    "        super(NetVLAD, self).__init__()\n",
    "        self.num_clusters = num_clusters\n",
    "        self.dim = dim\n",
    "        self.alpha = 0\n",
    "        self.vladv2 = vladv2\n",
    "        self.normalize_input = normalize_input\n",
    "        self.conv = nn.Conv2d(dim, num_clusters, kernel_size=(1, 1), bias=vladv2)\n",
    "        self.centroids = nn.Parameter(torch.rand(num_clusters, dim))\n",
    "\n",
    "    def init_params(self, clsts, traindescs):\n",
    "        #TODO replace numpy ops with pytorch ops\n",
    "        if self.vladv2 == False:\n",
    "            clstsAssign = clsts / np.linalg.norm(clsts, axis=1, keepdims=True)\n",
    "            dots = np.dot(clstsAssign, traindescs.T)\n",
    "            dots.sort(0)\n",
    "            dots = dots[::-1, :] # sort, descending\n",
    "\n",
    "            self.alpha = (-np.log(0.01) / np.mean(dots[0,:] - dots[1,:])).item()\n",
    "            self.centroids = nn.Parameter(torch.from_numpy(clsts))\n",
    "            self.conv.weight = nn.Parameter(torch.from_numpy(self.alpha*clstsAssign).unsqueeze(2).unsqueeze(3))\n",
    "            self.conv.bias = None\n",
    "       \n",
    "\n",
    "    def forward(self, x):\n",
    "        N, C = x.shape[:2]\n",
    "\n",
    "        if self.normalize_input:\n",
    "            x = F.normalize(x, p=2, dim=1)  # across descriptor dim\n",
    "\n",
    "        # soft-assignment\n",
    "        soft_assign = self.conv(x).view(N, self.num_clusters, -1)\n",
    "        soft_assign = F.softmax(soft_assign, dim=1)\n",
    "\n",
    "        x_flatten = x.view(N, C, -1)\n",
    "        \n",
    "        # calculate residuals to each clusters\n",
    "        vlad = torch.zeros([N, self.num_clusters, C], dtype=x.dtype, layout=x.layout, device=x.device)\n",
    "        for C in range(self.num_clusters): # slower than non-looped, but lower memory usage \n",
    "            residual = x_flatten.unsqueeze(0).permute(1, 0, 2, 3) - \\\n",
    "                    self.centroids[C:C+1, :].expand(x_flatten.size(-1), -1, -1).permute(1, 2, 0).unsqueeze(0)\n",
    "            residual *= soft_assign[:,C:C+1,:].unsqueeze(2)\n",
    "            vlad[:,C:C+1,:] = residual.sum(dim=-1)\n",
    "\n",
    "        vlad = F.normalize(vlad, p=2, dim=2)  # intra-normalization\n",
    "        vlad = vlad.view(x.size(0), -1)  # flatten\n",
    "        vlad = F.normalize(vlad, p=2, dim=1)  # L2 normalize\n",
    "\n",
    "        return vlad"
   ]
  },
  {
   "cell_type": "code",
   "execution_count": 35,
   "id": "71078533-7f73-41b3-8881-d5ce8b3abfa6",
   "metadata": {
    "tags": []
   },
   "outputs": [],
   "source": [
    "model_netvlad = NetVLAD(6,128,100,True)\n"
   ]
  },
  {
   "cell_type": "code",
   "execution_count": 36,
   "id": "f01f9f32-78d8-4837-9a0d-f291ef8fdff4",
   "metadata": {
    "tags": []
   },
   "outputs": [
    {
     "data": {
      "text/plain": [
       "==========================================================================================\n",
       "Layer (type:depth-idx)                   Output Shape              Param #\n",
       "==========================================================================================\n",
       "NetVLAD                                  [1, 768]                  768\n",
       "├─Conv2d: 1-1                            [1, 6, 4, 4]              774\n",
       "==========================================================================================\n",
       "Total params: 1,542\n",
       "Trainable params: 1,542\n",
       "Non-trainable params: 0\n",
       "Total mult-adds (M): 0.01\n",
       "==========================================================================================\n",
       "Input size (MB): 0.01\n",
       "Forward/backward pass size (MB): 0.00\n",
       "Params size (MB): 0.00\n",
       "Estimated Total Size (MB): 0.01\n",
       "=========================================================================================="
      ]
     },
     "execution_count": 36,
     "metadata": {},
     "output_type": "execute_result"
    }
   ],
   "source": [
    "torchinfo.summary(model_netvlad, input_size=(1,128,4,4))"
   ]
  },
  {
   "cell_type": "code",
   "execution_count": 37,
   "id": "5eb60394-7205-49f7-a783-ca600b96b4c1",
   "metadata": {},
   "outputs": [],
   "source": [
    "entries = 5\n",
    "embedded_dim = 3\n",
    "embeddings = torch.rand(entries, embedded_dim) * 100e-2"
   ]
  },
  {
   "cell_type": "code",
   "execution_count": 38,
   "id": "3fb322dc-ee52-416a-86b9-a7a9bd65bb89",
   "metadata": {
    "tags": []
   },
   "outputs": [
    {
     "data": {
      "text/plain": [
       "tensor([[0.6352, 0.5320, 0.7064],\n",
       "        [0.7644, 0.1169, 0.4576],\n",
       "        [0.2635, 0.0951, 0.7375],\n",
       "        [0.5630, 0.0347, 0.9274],\n",
       "        [0.6348, 0.9995, 0.1905]])"
      ]
     },
     "execution_count": 38,
     "metadata": {},
     "output_type": "execute_result"
    }
   ],
   "source": [
    "embeddings"
   ]
  },
  {
   "cell_type": "code",
   "execution_count": 39,
   "id": "d00e484d-53e6-4ad5-a24b-212bdf3daae3",
   "metadata": {
    "tags": []
   },
   "outputs": [
    {
     "name": "stdout",
     "output_type": "stream",
     "text": [
      "Sun May 21 11:06:26 2023       \n",
      "+---------------------------------------------------------------------------------------+\n",
      "| NVIDIA-SMI 530.41.03              Driver Version: 530.41.03    CUDA Version: 12.1     |\n",
      "|-----------------------------------------+----------------------+----------------------+\n",
      "| GPU  Name                  Persistence-M| Bus-Id        Disp.A | Volatile Uncorr. ECC |\n",
      "| Fan  Temp  Perf            Pwr:Usage/Cap|         Memory-Usage | GPU-Util  Compute M. |\n",
      "|                                         |                      |               MIG M. |\n",
      "|=========================================+======================+======================|\n",
      "|   0  NVIDIA GeForce RTX 3090         Off| 00000000:03:00.0 Off |                  N/A |\n",
      "|  0%   42C    P2              107W / 420W|    514MiB / 24576MiB |      2%      Default |\n",
      "|                                         |                      |                  N/A |\n",
      "+-----------------------------------------+----------------------+----------------------+\n",
      "|   1  NVIDIA GeForce RTX 3090         Off| 00000000:09:00.0 Off |                  N/A |\n",
      "|  0%   44C    P8               51W / 420W|    183MiB / 24576MiB |      0%      Default |\n",
      "|                                         |                      |                  N/A |\n",
      "+-----------------------------------------+----------------------+----------------------+\n",
      "                                                                                         \n",
      "+---------------------------------------------------------------------------------------+\n",
      "| Processes:                                                                            |\n",
      "|  GPU   GI   CI        PID   Type   Process name                            GPU Memory |\n",
      "|        ID   ID                                                             Usage      |\n",
      "|=======================================================================================|\n",
      "+---------------------------------------------------------------------------------------+\n"
     ]
    }
   ],
   "source": [
    "!nvidia-smi"
   ]
  },
  {
   "cell_type": "code",
   "execution_count": 40,
   "id": "f241f0b8-cf60-4801-8955-54775dfa56fe",
   "metadata": {
    "tags": []
   },
   "outputs": [],
   "source": [
    "def _pairwise_distance(x, squared=False, eps=1e-16):\n",
    "    # Compute the 2D matrix of distances between all the embeddings.\n",
    "\n",
    "    cor_mat = torch.matmul(x, x.t())\n",
    "    print(\"Correlation Matrix : \\n{}\".format(cor_mat))\n",
    "    norm_mat = cor_mat.diag()\n",
    "    print(\"Norm Matrix : \\n{}\".format(norm_mat))\n",
    "    print(\"NORM UNSQUEEZE(0) : \\n{}\".format(norm_mat.unsqueeze(0)))\n",
    "    print(\"NORM UNSQUEEZE(1) : \\n{}\".format(norm_mat.unsqueeze(1)))\n",
    "    \n",
    "    print(\"2xCorMat : \\n{}\".format(2 * cor_mat))\n",
    "    print(\"NormMat.UQ(1) Minus 2xCorMat : \\n{}\".format(norm_mat.unsqueeze(1) - 2 * cor_mat))\n",
    "    distances = norm_mat.unsqueeze(1) - 2 * cor_mat + norm_mat.unsqueeze(0)\n",
    "    print(\"Dist Matrix before relu : \\n{}\".format(distances))\n",
    "    \n",
    "    distances = F.relu(distances)\n",
    "    print(\"Dist Matrix After relu : \\n{}\".format(distances))\n",
    "    \n",
    "    ccc = torch.sqrt(distances)\n",
    "    \n",
    "    if not squared:\n",
    "        mask = torch.eq(distances, 0.0).float()\n",
    "        print(\"Mask : \\n{}\".format(mask))\n",
    "        \n",
    "        distances = distances + mask * eps\n",
    "        print(\"Distance After +Mask : \\n{}\".format(distances))\n",
    "        \n",
    "        distances = torch.sqrt(distances)\n",
    "        distances = distances * (1.0 - mask)\n",
    "        \n",
    "        print(\"EQ : \\n{}\".format(torch.eq(distances, ccc)))\n",
    "\n",
    "    return distances"
   ]
  },
  {
   "cell_type": "code",
   "execution_count": 41,
   "id": "17192013-a835-492b-8be5-86415ebc4f61",
   "metadata": {
    "tags": []
   },
   "outputs": [
    {
     "name": "stdout",
     "output_type": "stream",
     "text": [
      "Correlation Matrix : \n",
      "tensor([[1.1855, 0.8709, 0.7389, 1.0312, 1.0696],\n",
      "        [0.8709, 0.8073, 0.5500, 0.8588, 0.6893],\n",
      "        [0.7389, 0.5500, 0.6223, 0.8356, 0.4028],\n",
      "        [1.0312, 0.8588, 0.8356, 1.1783, 0.5688],\n",
      "        [1.0696, 0.6893, 0.4028, 0.5688, 1.4383]])\n",
      "Norm Matrix : \n",
      "tensor([1.1855, 0.8073, 0.6223, 1.1783, 1.4383])\n",
      "NORM UNSQUEEZE(0) : \n",
      "tensor([[1.1855, 0.8073, 0.6223, 1.1783, 1.4383]])\n",
      "NORM UNSQUEEZE(1) : \n",
      "tensor([[1.1855],\n",
      "        [0.8073],\n",
      "        [0.6223],\n",
      "        [1.1783],\n",
      "        [1.4383]])\n",
      "2xCorMat : \n",
      "tensor([[2.3710, 1.7419, 1.4778, 2.0624, 2.1391],\n",
      "        [1.7419, 1.6147, 1.0999, 1.7175, 1.3786],\n",
      "        [1.4778, 1.0999, 1.2446, 1.6711, 0.8057],\n",
      "        [2.0624, 1.7175, 1.6711, 2.3566, 1.1376],\n",
      "        [2.1391, 1.3786, 0.8057, 1.1376, 2.8765]])\n",
      "NormMat.UQ(1) Minus 2xCorMat : \n",
      "tensor([[-1.1855, -0.5564, -0.2923, -0.8769, -0.9536],\n",
      "        [-0.9346, -0.8073, -0.2926, -0.9102, -0.5713],\n",
      "        [-0.8555, -0.4776, -0.6223, -1.0488, -0.1833],\n",
      "        [-0.8841, -0.5393, -0.4929, -1.1783,  0.0407],\n",
      "        [-0.7008,  0.0597,  0.6326,  0.3007, -1.4383]])\n",
      "Dist Matrix before relu : \n",
      "tensor([[0.0000, 0.2509, 0.3300, 0.3014, 0.4846],\n",
      "        [0.2509, 0.0000, 0.3297, 0.2681, 0.8670],\n",
      "        [0.3300, 0.3297, 0.0000, 0.1295, 1.2549],\n",
      "        [0.3014, 0.2681, 0.1295, 0.0000, 1.4789],\n",
      "        [0.4846, 0.8670, 1.2549, 1.4789, 0.0000]])\n",
      "Dist Matrix After relu : \n",
      "tensor([[0.0000, 0.2509, 0.3300, 0.3014, 0.4846],\n",
      "        [0.2509, 0.0000, 0.3297, 0.2681, 0.8670],\n",
      "        [0.3300, 0.3297, 0.0000, 0.1295, 1.2549],\n",
      "        [0.3014, 0.2681, 0.1295, 0.0000, 1.4789],\n",
      "        [0.4846, 0.8670, 1.2549, 1.4789, 0.0000]])\n",
      "Mask : \n",
      "tensor([[1., 0., 0., 0., 0.],\n",
      "        [0., 1., 0., 0., 0.],\n",
      "        [0., 0., 1., 0., 0.],\n",
      "        [0., 0., 0., 1., 0.],\n",
      "        [0., 0., 0., 0., 1.]])\n",
      "Distance After +Mask : \n",
      "tensor([[1.0000e-16, 2.5092e-01, 3.3001e-01, 3.0137e-01, 4.8464e-01],\n",
      "        [2.5092e-01, 1.0000e-16, 3.2974e-01, 2.6807e-01, 8.6700e-01],\n",
      "        [3.3001e-01, 3.2974e-01, 1.0000e-16, 1.2945e-01, 1.2549e+00],\n",
      "        [3.0137e-01, 2.6807e-01, 1.2945e-01, 1.0000e-16, 1.4789e+00],\n",
      "        [4.8464e-01, 8.6700e-01, 1.2549e+00, 1.4789e+00, 1.0000e-16]])\n",
      "EQ : \n",
      "tensor([[True, True, True, True, True],\n",
      "        [True, True, True, True, True],\n",
      "        [True, True, True, True, True],\n",
      "        [True, True, True, True, True],\n",
      "        [True, True, True, True, True]])\n"
     ]
    },
    {
     "data": {
      "text/plain": [
       "tensor([[0.0000, 0.5009, 0.5745, 0.5490, 0.6962],\n",
       "        [0.5009, 0.0000, 0.5742, 0.5178, 0.9311],\n",
       "        [0.5745, 0.5742, 0.0000, 0.3598, 1.1202],\n",
       "        [0.5490, 0.5178, 0.3598, 0.0000, 1.2161],\n",
       "        [0.6962, 0.9311, 1.1202, 1.2161, 0.0000]])"
      ]
     },
     "execution_count": 41,
     "metadata": {},
     "output_type": "execute_result"
    }
   ],
   "source": [
    "_pairwise_distance(embeddings)"
   ]
  },
  {
   "cell_type": "code",
   "execution_count": 42,
   "id": "e78e6876-e03c-42f7-afef-d8dd98fedb6c",
   "metadata": {
    "tags": []
   },
   "outputs": [
    {
     "name": "stdout",
     "output_type": "stream",
     "text": [
      "Correlation Matrix : \n",
      "tensor([[1.1855, 0.8709, 0.7389, 1.0312, 1.0696],\n",
      "        [0.8709, 0.8073, 0.5500, 0.8588, 0.6893],\n",
      "        [0.7389, 0.5500, 0.6223, 0.8356, 0.4028],\n",
      "        [1.0312, 0.8588, 0.8356, 1.1783, 0.5688],\n",
      "        [1.0696, 0.6893, 0.4028, 0.5688, 1.4383]])\n",
      "Norm Matrix : \n",
      "tensor([1.1855, 0.8073, 0.6223, 1.1783, 1.4383])\n",
      "NORM UNSQUEEZE(0) : \n",
      "tensor([[1.1855, 0.8073, 0.6223, 1.1783, 1.4383]])\n",
      "NORM UNSQUEEZE(1) : \n",
      "tensor([[1.1855],\n",
      "        [0.8073],\n",
      "        [0.6223],\n",
      "        [1.1783],\n",
      "        [1.4383]])\n",
      "2xCorMat : \n",
      "tensor([[2.3710, 1.7419, 1.4778, 2.0624, 2.1391],\n",
      "        [1.7419, 1.6147, 1.0999, 1.7175, 1.3786],\n",
      "        [1.4778, 1.0999, 1.2446, 1.6711, 0.8057],\n",
      "        [2.0624, 1.7175, 1.6711, 2.3566, 1.1376],\n",
      "        [2.1391, 1.3786, 0.8057, 1.1376, 2.8765]])\n",
      "NormMat.UQ(1) Minus 2xCorMat : \n",
      "tensor([[-1.1855, -0.5564, -0.2923, -0.8769, -0.9536],\n",
      "        [-0.9346, -0.8073, -0.2926, -0.9102, -0.5713],\n",
      "        [-0.8555, -0.4776, -0.6223, -1.0488, -0.1833],\n",
      "        [-0.8841, -0.5393, -0.4929, -1.1783,  0.0407],\n",
      "        [-0.7008,  0.0597,  0.6326,  0.3007, -1.4383]])\n",
      "Dist Matrix before relu : \n",
      "tensor([[0.0000, 0.2509, 0.3300, 0.3014, 0.4846],\n",
      "        [0.2509, 0.0000, 0.3297, 0.2681, 0.8670],\n",
      "        [0.3300, 0.3297, 0.0000, 0.1295, 1.2549],\n",
      "        [0.3014, 0.2681, 0.1295, 0.0000, 1.4789],\n",
      "        [0.4846, 0.8670, 1.2549, 1.4789, 0.0000]])\n",
      "Dist Matrix After relu : \n",
      "tensor([[0.0000, 0.2509, 0.3300, 0.3014, 0.4846],\n",
      "        [0.2509, 0.0000, 0.3297, 0.2681, 0.8670],\n",
      "        [0.3300, 0.3297, 0.0000, 0.1295, 1.2549],\n",
      "        [0.3014, 0.2681, 0.1295, 0.0000, 1.4789],\n",
      "        [0.4846, 0.8670, 1.2549, 1.4789, 0.0000]])\n",
      "Mask : \n",
      "tensor([[1., 0., 0., 0., 0.],\n",
      "        [0., 1., 0., 0., 0.],\n",
      "        [0., 0., 1., 0., 0.],\n",
      "        [0., 0., 0., 1., 0.],\n",
      "        [0., 0., 0., 0., 1.]])\n",
      "Distance After +Mask : \n",
      "tensor([[1.0000e-16, 2.5092e-01, 3.3001e-01, 3.0137e-01, 4.8464e-01],\n",
      "        [2.5092e-01, 1.0000e-16, 3.2974e-01, 2.6807e-01, 8.6700e-01],\n",
      "        [3.3001e-01, 3.2974e-01, 1.0000e-16, 1.2945e-01, 1.2549e+00],\n",
      "        [3.0137e-01, 2.6807e-01, 1.2945e-01, 1.0000e-16, 1.4789e+00],\n",
      "        [4.8464e-01, 8.6700e-01, 1.2549e+00, 1.4789e+00, 1.0000e-16]])\n",
      "EQ : \n",
      "tensor([[True, True, True, True, True],\n",
      "        [True, True, True, True, True],\n",
      "        [True, True, True, True, True],\n",
      "        [True, True, True, True, True],\n",
      "        [True, True, True, True, True]])\n"
     ]
    },
    {
     "data": {
      "text/plain": [
       "tensor([[0.0000, 0.5009, 0.5745, 0.5490, 0.6962]])"
      ]
     },
     "execution_count": 42,
     "metadata": {},
     "output_type": "execute_result"
    }
   ],
   "source": [
    "_pairwise_distance(embeddings)[0:1,]"
   ]
  },
  {
   "cell_type": "code",
   "execution_count": 43,
   "id": "dd36ccb0-13cd-450e-bbb5-8387b94876c8",
   "metadata": {
    "tags": []
   },
   "outputs": [],
   "source": [
    "import numpy as np"
   ]
  },
  {
   "cell_type": "code",
   "execution_count": 44,
   "id": "fdc723e2-20a8-4459-9270-ac4cb6e16636",
   "metadata": {
    "tags": []
   },
   "outputs": [],
   "source": [
    "a = np.array(embeddings[0].cpu())\n",
    "b = np.array(embeddings[1].cpu())\n",
    "c = a-b"
   ]
  },
  {
   "cell_type": "code",
   "execution_count": 45,
   "id": "2f8b254f-e119-403f-a071-22988ac60cb7",
   "metadata": {
    "tags": []
   },
   "outputs": [
    {
     "data": {
      "text/plain": [
       "array([-0.12922621,  0.41509724,  0.24882591], dtype=float32)"
      ]
     },
     "execution_count": 45,
     "metadata": {},
     "output_type": "execute_result"
    }
   ],
   "source": [
    "c"
   ]
  },
  {
   "cell_type": "code",
   "execution_count": 46,
   "id": "70d5801c-c537-4ab8-b862-7fbfcd10d3c0",
   "metadata": {
    "tags": []
   },
   "outputs": [
    {
     "data": {
      "text/plain": [
       "0.53469694"
      ]
     },
     "execution_count": 46,
     "metadata": {},
     "output_type": "execute_result"
    }
   ],
   "source": [
    "np.sum(c)"
   ]
  },
  {
   "cell_type": "code",
   "execution_count": 47,
   "id": "ed6ef42f-7e2b-4849-be5b-c4322aebe1dc",
   "metadata": {
    "tags": []
   },
   "outputs": [
    {
     "data": {
      "text/plain": [
       "0.79314935"
      ]
     },
     "execution_count": 47,
     "metadata": {},
     "output_type": "execute_result"
    }
   ],
   "source": [
    "np.sum(np.abs(c))"
   ]
  },
  {
   "cell_type": "code",
   "execution_count": 48,
   "id": "eb548693-51ab-48eb-9cd1-93e9a84a72e1",
   "metadata": {
    "tags": []
   },
   "outputs": [
    {
     "data": {
      "text/plain": [
       "array([0.01669941, 0.17230572, 0.06191433], dtype=float32)"
      ]
     },
     "execution_count": 48,
     "metadata": {},
     "output_type": "execute_result"
    }
   ],
   "source": [
    "np.power(c,2)"
   ]
  },
  {
   "cell_type": "code",
   "execution_count": 49,
   "id": "472789e9-1038-48e5-bacf-2f86a6ceab2d",
   "metadata": {
    "tags": []
   },
   "outputs": [
    {
     "data": {
      "text/plain": [
       "0.5009186"
      ]
     },
     "execution_count": 49,
     "metadata": {},
     "output_type": "execute_result"
    }
   ],
   "source": [
    "np.sqrt(np.sum(np.square(c)))"
   ]
  },
  {
   "cell_type": "code",
   "execution_count": 50,
   "id": "f96c807c-ab9e-4fbb-af08-29b831f219ec",
   "metadata": {
    "tags": []
   },
   "outputs": [
    {
     "data": {
      "text/plain": [
       "tensor([[0.7849],\n",
       "        [0.5271],\n",
       "        [0.4303],\n",
       "        [0.1717],\n",
       "        [0.1719]])"
      ]
     },
     "execution_count": 50,
     "metadata": {},
     "output_type": "execute_result"
    }
   ],
   "source": [
    "a1 = torch.rand(5,1)\n",
    "a1"
   ]
  },
  {
   "cell_type": "code",
   "execution_count": 51,
   "id": "46e85593-3f8a-48e9-863e-868d09f5448a",
   "metadata": {
    "tags": []
   },
   "outputs": [
    {
     "data": {
      "text/plain": [
       "tensor([[0.7946, 0.9408, 0.3434, 0.6827, 0.3488],\n",
       "        [0.0984, 0.2320, 0.1589, 0.5463, 0.3872],\n",
       "        [0.7900, 0.1299, 0.1952, 0.1102, 0.0526],\n",
       "        [0.9526, 0.6893, 0.6370, 0.3693, 0.9401],\n",
       "        [0.2349, 0.0320, 0.8531, 0.6454, 0.3235]])"
      ]
     },
     "execution_count": 51,
     "metadata": {},
     "output_type": "execute_result"
    }
   ],
   "source": [
    "a2 = torch.rand(5,5)\n",
    "a2"
   ]
  },
  {
   "cell_type": "code",
   "execution_count": 52,
   "id": "f3bf6c63-3b1d-4493-afbf-c31fbe7ed895",
   "metadata": {
    "tags": []
   },
   "outputs": [
    {
     "data": {
      "text/plain": [
       "tensor([[1.5795, 1.7257, 1.1283, 1.4676, 1.1336],\n",
       "        [0.6255, 0.7591, 0.6860, 1.0734, 0.9143],\n",
       "        [1.2203, 0.5601, 0.6255, 0.5405, 0.4829],\n",
       "        [1.1242, 0.8610, 0.8087, 0.5410, 1.1118],\n",
       "        [0.4068, 0.2039, 1.0250, 0.8173, 0.4953]])"
      ]
     },
     "execution_count": 52,
     "metadata": {},
     "output_type": "execute_result"
    }
   ],
   "source": [
    "a1+a2"
   ]
  },
  {
   "cell_type": "code",
   "execution_count": 53,
   "id": "41cf612d-9eda-46b5-b494-861d135b6b66",
   "metadata": {
    "tags": []
   },
   "outputs": [
    {
     "data": {
      "text/plain": [
       "tensor([[0.7946, 0.9408, 0.3434, 0.6827, 0.3488],\n",
       "        [0.0984, 0.2320, 0.1589, 0.5463, 0.3872],\n",
       "        [0.7900, 0.1299, 0.1952, 0.1102, 0.0526],\n",
       "        [0.9526, 0.6893, 0.6370, 0.3693, 0.9401],\n",
       "        [0.2349, 0.0320, 0.8531, 0.6454, 0.3235]])"
      ]
     },
     "execution_count": 53,
     "metadata": {},
     "output_type": "execute_result"
    }
   ],
   "source": [
    "a2"
   ]
  },
  {
   "cell_type": "code",
   "execution_count": 54,
   "id": "3089effd-318d-481e-b58c-d6b06048191b",
   "metadata": {
    "tags": []
   },
   "outputs": [
    {
     "data": {
      "text/plain": [
       "tensor([[0.0000, 0.7088, 0.1482, 0.3134, 0.0253],\n",
       "        [0.0000, 0.0000, 0.0000, 0.1769, 0.0637],\n",
       "        [0.0000, 0.0000, 0.0000, 0.0000, 0.0000],\n",
       "        [0.1580, 0.4573, 0.4418, 0.0000, 0.6166],\n",
       "        [0.0000, 0.0000, 0.6579, 0.2761, 0.0000]])"
      ]
     },
     "execution_count": 54,
     "metadata": {},
     "output_type": "execute_result"
    }
   ],
   "source": [
    "a3 = a2 - a2.diag()\n",
    "a3 = F.relu(a3)\n",
    "a3"
   ]
  },
  {
   "cell_type": "code",
   "execution_count": 55,
   "id": "e1bcc24c-fe88-448e-b258-fe6a0c6af5fe",
   "metadata": {
    "tags": []
   },
   "outputs": [
    {
     "data": {
      "text/plain": [
       "tensor([[1., 0., 0., 0., 0.],\n",
       "        [1., 1., 1., 0., 0.],\n",
       "        [1., 1., 1., 1., 1.],\n",
       "        [0., 0., 0., 1., 0.],\n",
       "        [1., 1., 0., 0., 1.]])"
      ]
     },
     "execution_count": 55,
     "metadata": {},
     "output_type": "execute_result"
    }
   ],
   "source": [
    "mask = torch.eq(a3, 0.0).float()\n",
    "mask"
   ]
  },
  {
   "cell_type": "code",
   "execution_count": 56,
   "id": "7b98fe53-b18e-40a0-bf96-fa0dbc44fbe8",
   "metadata": {
    "tags": []
   },
   "outputs": [
    {
     "data": {
      "text/plain": [
       "tensor([[1.0000e-16, 7.0877e-01, 1.4818e-01, 3.1340e-01, 2.5292e-02],\n",
       "        [1.0000e-16, 1.0000e-16, 1.0000e-16, 1.7693e-01, 6.3727e-02],\n",
       "        [1.0000e-16, 1.0000e-16, 1.0000e-16, 1.0000e-16, 1.0000e-16],\n",
       "        [1.5797e-01, 4.5728e-01, 4.4182e-01, 1.0000e-16, 6.1661e-01],\n",
       "        [1.0000e-16, 1.0000e-16, 6.5794e-01, 2.7612e-01, 1.0000e-16]])"
      ]
     },
     "execution_count": 56,
     "metadata": {},
     "output_type": "execute_result"
    }
   ],
   "source": [
    "a4 = a3 + mask*1e-16\n",
    "a4"
   ]
  },
  {
   "cell_type": "code",
   "execution_count": 57,
   "id": "08a4a55b-ffa8-4ebb-b346-798f7f068afa",
   "metadata": {
    "tags": []
   },
   "outputs": [
    {
     "data": {
      "text/plain": [
       "tensor([[1.0000e-08, 8.4188e-01, 3.8494e-01, 5.5982e-01, 1.5903e-01],\n",
       "        [1.0000e-08, 1.0000e-08, 1.0000e-08, 4.2063e-01, 2.5244e-01],\n",
       "        [1.0000e-08, 1.0000e-08, 1.0000e-08, 1.0000e-08, 1.0000e-08],\n",
       "        [3.9746e-01, 6.7622e-01, 6.6470e-01, 1.0000e-08, 7.8524e-01],\n",
       "        [1.0000e-08, 1.0000e-08, 8.1114e-01, 5.2548e-01, 1.0000e-08]])"
      ]
     },
     "execution_count": 57,
     "metadata": {},
     "output_type": "execute_result"
    }
   ],
   "source": [
    "a5 = torch.sqrt(a4)\n",
    "a5"
   ]
  },
  {
   "cell_type": "code",
   "execution_count": 58,
   "id": "17a86448-c268-42c9-a9ef-1dd1418f737b",
   "metadata": {
    "tags": []
   },
   "outputs": [
    {
     "data": {
      "text/plain": [
       "tensor([[0., 1., 1., 1., 1.],\n",
       "        [0., 0., 0., 1., 1.],\n",
       "        [0., 0., 0., 0., 0.],\n",
       "        [1., 1., 1., 0., 1.],\n",
       "        [0., 0., 1., 1., 0.]])"
      ]
     },
     "execution_count": 58,
     "metadata": {},
     "output_type": "execute_result"
    }
   ],
   "source": [
    "(1.0 - mask)"
   ]
  },
  {
   "cell_type": "code",
   "execution_count": 59,
   "id": "fb8d1d70-6897-44f6-b90a-2eaf08cee33a",
   "metadata": {
    "tags": []
   },
   "outputs": [
    {
     "data": {
      "text/plain": [
       "tensor([[0.0000, 0.8419, 0.3849, 0.5598, 0.1590],\n",
       "        [0.0000, 0.0000, 0.0000, 0.4206, 0.2524],\n",
       "        [0.0000, 0.0000, 0.0000, 0.0000, 0.0000],\n",
       "        [0.3975, 0.6762, 0.6647, 0.0000, 0.7852],\n",
       "        [0.0000, 0.0000, 0.8111, 0.5255, 0.0000]])"
      ]
     },
     "execution_count": 59,
     "metadata": {},
     "output_type": "execute_result"
    }
   ],
   "source": [
    "a6 = a5 * (1.0 - mask)\n",
    "a6"
   ]
  },
  {
   "cell_type": "code",
   "execution_count": 60,
   "id": "1bedb9cf-4598-481b-af67-47c215ff1713",
   "metadata": {
    "tags": []
   },
   "outputs": [
    {
     "data": {
      "text/plain": [
       "tensor([[0., 0., 0., 0., 0.],\n",
       "        [0., 0., 0., 0., 0.],\n",
       "        [0., 0., 0., 0., 0.],\n",
       "        [0., 0., 0., 0., 0.],\n",
       "        [0., 0., 0., 0., 0.]])"
      ]
     },
     "execution_count": 60,
     "metadata": {},
     "output_type": "execute_result"
    }
   ],
   "source": [
    "ss = torch.zeros(5,5)\n",
    "ss"
   ]
  },
  {
   "cell_type": "code",
   "execution_count": 61,
   "id": "ca73dcf8-eb96-4591-8a63-b92713c83e23",
   "metadata": {
    "tags": []
   },
   "outputs": [
    {
     "data": {
      "text/plain": [
       "tensor([[0., 0., 0., 0., 0.],\n",
       "        [0., 0., 0., 0., 0.],\n",
       "        [0., 0., 0., 0., 0.],\n",
       "        [0., 0., 0., 0., 0.],\n",
       "        [0., 0., 0., 0., 0.]])"
      ]
     },
     "execution_count": 61,
     "metadata": {},
     "output_type": "execute_result"
    }
   ],
   "source": [
    "torch.sqrt(ss)"
   ]
  },
  {
   "cell_type": "code",
   "execution_count": 62,
   "id": "b1adf6d7-0aff-481d-8a8b-4e33dfb38bb9",
   "metadata": {
    "tags": []
   },
   "outputs": [
    {
     "data": {
      "text/plain": [
       "tensor([0.])"
      ]
     },
     "execution_count": 62,
     "metadata": {},
     "output_type": "execute_result"
    }
   ],
   "source": [
    "torch.sqrt(torch.zeros(1))"
   ]
  },
  {
   "cell_type": "code",
   "execution_count": 63,
   "id": "60fefb57-938d-4319-a626-3b6ebe7663bc",
   "metadata": {
    "tags": []
   },
   "outputs": [
    {
     "data": {
      "text/plain": [
       "tensor([1, 1, 2, 2, 3, 3, 3, 1, 1])"
      ]
     },
     "execution_count": 63,
     "metadata": {},
     "output_type": "execute_result"
    }
   ],
   "source": [
    "labels = torch.tensor([1,1,2,2,3,3,3,1,1])\n",
    "labels"
   ]
  },
  {
   "cell_type": "code",
   "execution_count": 64,
   "id": "82156613-962d-49e2-9d76-0b48ad0d509b",
   "metadata": {
    "tags": []
   },
   "outputs": [],
   "source": [
    "def _get_anchor_positive_triplet_mask(labels):\n",
    "    \"\"\"\n",
    "    Given labels of size (batch_size, ) \n",
    "    Return a 2D Mask : Where mask[Anchor, Positive] is True\n",
    "    iff Anchor and Positive \n",
    "    - Distinct \n",
    "    - Same Label\n",
    "    \n",
    "    Mask will omitted the self index (result 0)\n",
    "    label [1,1,2,2,3,1] \n",
    "    for item idx 0 will return [X(zero),1,0,0,0,1]\n",
    "    \"\"\"\n",
    "    # Device Select\n",
    "    device = torch.device(\"cuda:0\" if torch.cuda.is_available() else \"cpu\")\n",
    "    # Negative Mask\n",
    "    indices_not_equal = torch.eye(labels.shape[0]).to(device).byte() ^ 1\n",
    "\n",
    "    # Check if labels[i] == labels[j]\n",
    "    labels_equal = torch.unsqueeze(labels, 0) == torch.unsqueeze(labels, 1)\n",
    "    \n",
    "    mask = indices_not_equal * labels_equal\n",
    "\n",
    "    return mask"
   ]
  },
  {
   "cell_type": "code",
   "execution_count": 65,
   "id": "3de435a4-a1b9-45c3-9fc5-44c47276e1b7",
   "metadata": {
    "tags": []
   },
   "outputs": [
    {
     "ename": "RuntimeError",
     "evalue": "Expected all tensors to be on the same device, but found at least two devices, cuda:0 and cpu!",
     "output_type": "error",
     "traceback": [
      "\u001b[0;31m---------------------------------------------------------------------------\u001b[0m",
      "\u001b[0;31mRuntimeError\u001b[0m                              Traceback (most recent call last)",
      "Cell \u001b[0;32mIn[65], line 1\u001b[0m\n\u001b[0;32m----> 1\u001b[0m \u001b[43m_get_anchor_positive_triplet_mask\u001b[49m\u001b[43m(\u001b[49m\u001b[43mlabels\u001b[49m\u001b[43m)\u001b[49m\n",
      "Cell \u001b[0;32mIn[64], line 21\u001b[0m, in \u001b[0;36m_get_anchor_positive_triplet_mask\u001b[0;34m(labels)\u001b[0m\n\u001b[1;32m     18\u001b[0m \u001b[38;5;66;03m# Check if labels[i] == labels[j]\u001b[39;00m\n\u001b[1;32m     19\u001b[0m labels_equal \u001b[38;5;241m=\u001b[39m torch\u001b[38;5;241m.\u001b[39munsqueeze(labels, \u001b[38;5;241m0\u001b[39m) \u001b[38;5;241m==\u001b[39m torch\u001b[38;5;241m.\u001b[39munsqueeze(labels, \u001b[38;5;241m1\u001b[39m)\n\u001b[0;32m---> 21\u001b[0m mask \u001b[38;5;241m=\u001b[39m \u001b[43mindices_not_equal\u001b[49m\u001b[43m \u001b[49m\u001b[38;5;241;43m*\u001b[39;49m\u001b[43m \u001b[49m\u001b[43mlabels_equal\u001b[49m\n\u001b[1;32m     23\u001b[0m \u001b[38;5;28;01mreturn\u001b[39;00m mask\n",
      "\u001b[0;31mRuntimeError\u001b[0m: Expected all tensors to be on the same device, but found at least two devices, cuda:0 and cpu!"
     ]
    }
   ],
   "source": [
    "_get_anchor_positive_triplet_mask(labels)"
   ]
  },
  {
   "cell_type": "code",
   "execution_count": null,
   "id": "680ff61c-82e4-4e20-8baa-71f89c1ba46b",
   "metadata": {
    "tags": []
   },
   "outputs": [],
   "source": [
    "def _get_anchor_negative_triplet_mask(labels):\n",
    "    # Return a 2D mask where mask[a, n] is True iff a and n have distinct labels.\n",
    "\n",
    "    # Check if labels[i] != labels[k]\n",
    "    labels_equal = torch.unsqueeze(labels, 0) == torch.unsqueeze(labels, 1)\n",
    "    mask = labels_equal ^ 1\n",
    "\n",
    "    return mask"
   ]
  },
  {
   "cell_type": "code",
   "execution_count": null,
   "id": "4cf47c17-266e-41c6-978f-7f99366d8f5e",
   "metadata": {
    "tags": []
   },
   "outputs": [],
   "source": [
    "_get_anchor_negative_triplet_mask(labels)"
   ]
  },
  {
   "cell_type": "code",
   "execution_count": 69,
   "id": "399baf41-6fc7-4430-8991-1a9f48b96dea",
   "metadata": {
    "tags": []
   },
   "outputs": [
    {
     "data": {
      "text/plain": [
       "tensor([[0.1414, 0.3443],\n",
       "        [0.8465, 0.2429]])"
      ]
     },
     "execution_count": 69,
     "metadata": {},
     "output_type": "execute_result"
    }
   ],
   "source": [
    "pd = torch.rand(2,2)\n",
    "pd"
   ]
  },
  {
   "cell_type": "code",
   "execution_count": 74,
   "id": "f48b33e2-304e-4559-8840-3f9c4fee08a3",
   "metadata": {
    "tags": []
   },
   "outputs": [
    {
     "name": "stdout",
     "output_type": "stream",
     "text": [
      "tensor([[[0.1414, 0.3443],\n",
      "         [0.8465, 0.2429]]])\n",
      "torch.Size([1, 2, 2])\n"
     ]
    }
   ],
   "source": [
    "u0 = pd.unsqueeze(dim=0)\n",
    "print(u0)\n",
    "print(u0.shape)"
   ]
  },
  {
   "cell_type": "code",
   "execution_count": 75,
   "id": "b2c3a336-47ba-4f24-9911-1586358c82b7",
   "metadata": {
    "tags": []
   },
   "outputs": [
    {
     "name": "stdout",
     "output_type": "stream",
     "text": [
      "tensor([[[0.1414, 0.3443]],\n",
      "\n",
      "        [[0.8465, 0.2429]]])\n",
      "torch.Size([2, 1, 2])\n"
     ]
    }
   ],
   "source": [
    "u1 = pd.unsqueeze(dim=1)\n",
    "print(u1)\n",
    "print(u1.shape)"
   ]
  },
  {
   "cell_type": "code",
   "execution_count": 76,
   "id": "19a35da1-a0ad-4b9f-86c9-4444c2d8da5d",
   "metadata": {
    "tags": []
   },
   "outputs": [
    {
     "name": "stdout",
     "output_type": "stream",
     "text": [
      "tensor([[[0.1414],\n",
      "         [0.3443]],\n",
      "\n",
      "        [[0.8465],\n",
      "         [0.2429]]])\n",
      "torch.Size([2, 2, 1])\n"
     ]
    }
   ],
   "source": [
    "u2 = pd.unsqueeze(dim=2)\n",
    "print(u2)\n",
    "print(u2.shape)"
   ]
  },
  {
   "cell_type": "code",
   "execution_count": null,
   "id": "e8d4d841-2374-4904-a4f2-84ed56e3eb4e",
   "metadata": {},
   "outputs": [],
   "source": []
  }
 ],
 "metadata": {
  "kernelspec": {
   "display_name": "Python 3 (ipykernel)",
   "language": "python",
   "name": "python3"
  },
  "language_info": {
   "codemirror_mode": {
    "name": "ipython",
    "version": 3
   },
   "file_extension": ".py",
   "mimetype": "text/x-python",
   "name": "python",
   "nbconvert_exporter": "python",
   "pygments_lexer": "ipython3",
   "version": "3.8.10"
  }
 },
 "nbformat": 4,
 "nbformat_minor": 5
}
