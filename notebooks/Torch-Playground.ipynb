{
 "cells": [
  {
   "cell_type": "code",
   "execution_count": 1,
   "id": "d1a3329f-2059-490a-b674-555b3981daac",
   "metadata": {
    "tags": []
   },
   "outputs": [],
   "source": [
    "import torch\n"
   ]
  },
  {
   "cell_type": "code",
   "execution_count": 7,
   "id": "38c9f641-c542-4ba4-adb6-a1a43814aa97",
   "metadata": {
    "tags": []
   },
   "outputs": [],
   "source": [
    "tensor = torch.tensor([1.11, 2.22,3.33])"
   ]
  },
  {
   "cell_type": "code",
   "execution_count": 8,
   "id": "f6da8279-8054-4710-8838-97385de5361f",
   "metadata": {
    "tags": []
   },
   "outputs": [
    {
     "name": "stdout",
     "output_type": "stream",
     "text": [
      "tensor([1.1100, 2.2200, 3.3300])\n",
      "size : torch.Size([3])\n"
     ]
    }
   ],
   "source": [
    "print(tensor)\n",
    "print(f\"size : {tensor.shape}\")"
   ]
  },
  {
   "cell_type": "code",
   "execution_count": 9,
   "id": "a0e40916-e132-40e2-8685-71deeb864f87",
   "metadata": {
    "tags": []
   },
   "outputs": [
    {
     "name": "stdout",
     "output_type": "stream",
     "text": [
      "tensor([[1.1100],\n",
      "        [2.2200],\n",
      "        [3.3300]])\n",
      "size : torch.Size([3, 1])\n"
     ]
    }
   ],
   "source": [
    "# Unsqueeze (-1)\n",
    "tensor_usq = tensor.unsqueeze(-1)\n",
    "print(tensor_usq)\n",
    "print(f\"size : {tensor_usq.shape}\")"
   ]
  },
  {
   "cell_type": "code",
   "execution_count": 11,
   "id": "e1abda89-9277-4b88-b3e6-c4cfef80a07e",
   "metadata": {
    "tags": []
   },
   "outputs": [
    {
     "name": "stdout",
     "output_type": "stream",
     "text": [
      "tensor([[1.1100, 2.2200, 3.3300]])\n"
     ]
    }
   ],
   "source": [
    "\n",
    "tensor_usq0 = tensor.unsqueeze(0)\n",
    "print(tensor_usq0)"
   ]
  },
  {
   "cell_type": "code",
   "execution_count": 12,
   "id": "2f242f34-23f7-4d0c-b23e-8a5ca7a192d9",
   "metadata": {
    "tags": []
   },
   "outputs": [
    {
     "name": "stdout",
     "output_type": "stream",
     "text": [
      "tensor([[1.1100],\n",
      "        [2.2200],\n",
      "        [3.3300]])\n"
     ]
    }
   ],
   "source": [
    "tensor_usq1 = tensor.unsqueeze(1)\n",
    "print(tensor_usq1)"
   ]
  },
  {
   "cell_type": "code",
   "execution_count": 14,
   "id": "c7e6010a-9f5b-4f6f-a36b-0f16a8e78939",
   "metadata": {
    "tags": []
   },
   "outputs": [
    {
     "name": "stdout",
     "output_type": "stream",
     "text": [
      "tensor([[[1.1100]],\n",
      "\n",
      "        [[2.2200]],\n",
      "\n",
      "        [[3.3300]]])\n"
     ]
    }
   ],
   "source": [
    "tensor_view = tensor.view(3,1,1)\n",
    "print(tensor_view)"
   ]
  },
  {
   "cell_type": "code",
   "execution_count": 15,
   "id": "4d908fcc-1b73-4ce6-8c5a-e25ebe07de93",
   "metadata": {
    "tags": []
   },
   "outputs": [
    {
     "name": "stdout",
     "output_type": "stream",
     "text": [
      "tensor([[[1.1100]],\n",
      "\n",
      "        [[2.2200]],\n",
      "\n",
      "        [[3.3300]]])\n"
     ]
    }
   ],
   "source": [
    "double_usq = tensor.unsqueeze(-1).unsqueeze(-1)\n",
    "print(double_usq)"
   ]
  },
  {
   "cell_type": "code",
   "execution_count": 4,
   "id": "b259b77d-c215-4487-9fca-927db014f733",
   "metadata": {
    "tags": []
   },
   "outputs": [],
   "source": [
    "sift_feature = 5\n",
    "cluster = 3\n",
    "my_rand = torch.rand(cluster, sift_feature)"
   ]
  },
  {
   "cell_type": "code",
   "execution_count": 5,
   "id": "fd0ae852-3e73-47f5-878c-3b1b1e924e84",
   "metadata": {
    "tags": []
   },
   "outputs": [
    {
     "data": {
      "text/plain": [
       "tensor([[0.1376, 0.6032, 0.4464, 0.7913, 0.2872],\n",
       "        [0.8638, 0.1759, 0.9549, 0.6871, 0.1608],\n",
       "        [0.8741, 0.9658, 0.2262, 0.7003, 0.7457]])"
      ]
     },
     "execution_count": 5,
     "metadata": {},
     "output_type": "execute_result"
    }
   ],
   "source": [
    "my_rand"
   ]
  },
  {
   "cell_type": "code",
   "execution_count": 8,
   "id": "f2d0830c-b09a-412c-8220-a1866c5615a8",
   "metadata": {
    "tags": []
   },
   "outputs": [
    {
     "name": "stdout",
     "output_type": "stream",
     "text": [
      "tensor([[[0.1376],\n",
      "         [0.6032],\n",
      "         [0.4464],\n",
      "         [0.7913],\n",
      "         [0.2872]],\n",
      "\n",
      "        [[0.8638],\n",
      "         [0.1759],\n",
      "         [0.9549],\n",
      "         [0.6871],\n",
      "         [0.1608]],\n",
      "\n",
      "        [[0.8741],\n",
      "         [0.9658],\n",
      "         [0.2262],\n",
      "         [0.7003],\n",
      "         [0.7457]]])\n",
      "torch.Size([3, 5, 1])\n"
     ]
    }
   ],
   "source": [
    "mb = my_rand.unsqueeze(-1)\n",
    "print(mb)\n",
    "print(mb.size())"
   ]
  },
  {
   "cell_type": "code",
   "execution_count": 9,
   "id": "d9edb69c-bbe6-4de7-a117-967e30237c87",
   "metadata": {
    "tags": []
   },
   "outputs": [
    {
     "name": "stdout",
     "output_type": "stream",
     "text": [
      "tensor([[[[0.1376]],\n",
      "\n",
      "         [[0.6032]],\n",
      "\n",
      "         [[0.4464]],\n",
      "\n",
      "         [[0.7913]],\n",
      "\n",
      "         [[0.2872]]],\n",
      "\n",
      "\n",
      "        [[[0.8638]],\n",
      "\n",
      "         [[0.1759]],\n",
      "\n",
      "         [[0.9549]],\n",
      "\n",
      "         [[0.6871]],\n",
      "\n",
      "         [[0.1608]]],\n",
      "\n",
      "\n",
      "        [[[0.8741]],\n",
      "\n",
      "         [[0.9658]],\n",
      "\n",
      "         [[0.2262]],\n",
      "\n",
      "         [[0.7003]],\n",
      "\n",
      "         [[0.7457]]]])\n",
      "torch.Size([3, 5, 1, 1])\n"
     ]
    }
   ],
   "source": [
    "mbb = my_rand.unsqueeze(-1).unsqueeze(-1)\n",
    "print(mbb)\n",
    "print(mbb.size())"
   ]
  },
  {
   "cell_type": "code",
   "execution_count": 60,
   "id": "fe1ef7d1-11ac-48fd-b297-30db0bcb98a8",
   "metadata": {
    "tags": []
   },
   "outputs": [],
   "source": [
    "import torchinfo\n",
    "from torchvision.models import resnet18\n",
    "import torch.nn as nn\n",
    "import torch.nn.functional as F"
   ]
  },
  {
   "cell_type": "code",
   "execution_count": 61,
   "id": "cce5779b-f43c-4a19-a1b6-eaad1a1c4db9",
   "metadata": {
    "tags": []
   },
   "outputs": [
    {
     "name": "stderr",
     "output_type": "stream",
     "text": [
      "/usr/local/lib/python3.8/dist-packages/torchvision/models/_utils.py:208: UserWarning: The parameter 'pretrained' is deprecated since 0.13 and may be removed in the future, please use 'weights' instead.\n",
      "  warnings.warn(\n",
      "/usr/local/lib/python3.8/dist-packages/torchvision/models/_utils.py:223: UserWarning: Arguments other than a weight enum or `None` for 'weights' are deprecated since 0.13 and may be removed in the future. The current behavior is equivalent to passing `weights=ResNet18_Weights.IMAGENET1K_V1`. You can also use `weights=ResNet18_Weights.DEFAULT` to get the most up-to-date weights.\n",
      "  warnings.warn(msg)\n"
     ]
    }
   ],
   "source": [
    "encoder = resnet18(pretrained=True)\n",
    "base_model = nn.Sequential(\n",
    "    encoder.conv1,\n",
    "    encoder.bn1,\n",
    "    encoder.relu,\n",
    "    encoder.maxpool,\n",
    "    encoder.layer1,\n",
    "    encoder.layer2,\n",
    "    encoder.layer3,\n",
    "    encoder.layer4,\n",
    ")"
   ]
  },
  {
   "cell_type": "code",
   "execution_count": 62,
   "id": "e786d7d8-bde7-4dff-8a5e-f3a239755cae",
   "metadata": {
    "tags": []
   },
   "outputs": [
    {
     "name": "stdout",
     "output_type": "stream",
     "text": [
      "torch.Size([512])\n"
     ]
    }
   ],
   "source": [
    "dim = list(base_model.parameters())[-1].shape # last channels (512)\n",
    "print(dim)\n"
   ]
  },
  {
   "cell_type": "code",
   "execution_count": 63,
   "id": "880847b9-a9a2-4e0f-8c87-fb0188180201",
   "metadata": {
    "tags": []
   },
   "outputs": [
    {
     "data": {
      "text/plain": [
       "==========================================================================================\n",
       "Layer (type:depth-idx)                   Output Shape              Param #\n",
       "==========================================================================================\n",
       "Sequential                               [1, 512, 4, 4]            --\n",
       "├─Conv2d: 1-1                            [1, 64, 64, 64]           9,408\n",
       "├─BatchNorm2d: 1-2                       [1, 64, 64, 64]           128\n",
       "├─ReLU: 1-3                              [1, 64, 64, 64]           --\n",
       "├─MaxPool2d: 1-4                         [1, 64, 32, 32]           --\n",
       "├─Sequential: 1-5                        [1, 64, 32, 32]           --\n",
       "│    └─BasicBlock: 2-1                   [1, 64, 32, 32]           --\n",
       "│    │    └─Conv2d: 3-1                  [1, 64, 32, 32]           36,864\n",
       "│    │    └─BatchNorm2d: 3-2             [1, 64, 32, 32]           128\n",
       "│    │    └─ReLU: 3-3                    [1, 64, 32, 32]           --\n",
       "│    │    └─Conv2d: 3-4                  [1, 64, 32, 32]           36,864\n",
       "│    │    └─BatchNorm2d: 3-5             [1, 64, 32, 32]           128\n",
       "│    │    └─ReLU: 3-6                    [1, 64, 32, 32]           --\n",
       "│    └─BasicBlock: 2-2                   [1, 64, 32, 32]           --\n",
       "│    │    └─Conv2d: 3-7                  [1, 64, 32, 32]           36,864\n",
       "│    │    └─BatchNorm2d: 3-8             [1, 64, 32, 32]           128\n",
       "│    │    └─ReLU: 3-9                    [1, 64, 32, 32]           --\n",
       "│    │    └─Conv2d: 3-10                 [1, 64, 32, 32]           36,864\n",
       "│    │    └─BatchNorm2d: 3-11            [1, 64, 32, 32]           128\n",
       "│    │    └─ReLU: 3-12                   [1, 64, 32, 32]           --\n",
       "├─Sequential: 1-6                        [1, 128, 16, 16]          --\n",
       "│    └─BasicBlock: 2-3                   [1, 128, 16, 16]          --\n",
       "│    │    └─Conv2d: 3-13                 [1, 128, 16, 16]          73,728\n",
       "│    │    └─BatchNorm2d: 3-14            [1, 128, 16, 16]          256\n",
       "│    │    └─ReLU: 3-15                   [1, 128, 16, 16]          --\n",
       "│    │    └─Conv2d: 3-16                 [1, 128, 16, 16]          147,456\n",
       "│    │    └─BatchNorm2d: 3-17            [1, 128, 16, 16]          256\n",
       "│    │    └─Sequential: 3-18             [1, 128, 16, 16]          8,448\n",
       "│    │    └─ReLU: 3-19                   [1, 128, 16, 16]          --\n",
       "│    └─BasicBlock: 2-4                   [1, 128, 16, 16]          --\n",
       "│    │    └─Conv2d: 3-20                 [1, 128, 16, 16]          147,456\n",
       "│    │    └─BatchNorm2d: 3-21            [1, 128, 16, 16]          256\n",
       "│    │    └─ReLU: 3-22                   [1, 128, 16, 16]          --\n",
       "│    │    └─Conv2d: 3-23                 [1, 128, 16, 16]          147,456\n",
       "│    │    └─BatchNorm2d: 3-24            [1, 128, 16, 16]          256\n",
       "│    │    └─ReLU: 3-25                   [1, 128, 16, 16]          --\n",
       "├─Sequential: 1-7                        [1, 256, 8, 8]            --\n",
       "│    └─BasicBlock: 2-5                   [1, 256, 8, 8]            --\n",
       "│    │    └─Conv2d: 3-26                 [1, 256, 8, 8]            294,912\n",
       "│    │    └─BatchNorm2d: 3-27            [1, 256, 8, 8]            512\n",
       "│    │    └─ReLU: 3-28                   [1, 256, 8, 8]            --\n",
       "│    │    └─Conv2d: 3-29                 [1, 256, 8, 8]            589,824\n",
       "│    │    └─BatchNorm2d: 3-30            [1, 256, 8, 8]            512\n",
       "│    │    └─Sequential: 3-31             [1, 256, 8, 8]            33,280\n",
       "│    │    └─ReLU: 3-32                   [1, 256, 8, 8]            --\n",
       "│    └─BasicBlock: 2-6                   [1, 256, 8, 8]            --\n",
       "│    │    └─Conv2d: 3-33                 [1, 256, 8, 8]            589,824\n",
       "│    │    └─BatchNorm2d: 3-34            [1, 256, 8, 8]            512\n",
       "│    │    └─ReLU: 3-35                   [1, 256, 8, 8]            --\n",
       "│    │    └─Conv2d: 3-36                 [1, 256, 8, 8]            589,824\n",
       "│    │    └─BatchNorm2d: 3-37            [1, 256, 8, 8]            512\n",
       "│    │    └─ReLU: 3-38                   [1, 256, 8, 8]            --\n",
       "├─Sequential: 1-8                        [1, 512, 4, 4]            --\n",
       "│    └─BasicBlock: 2-7                   [1, 512, 4, 4]            --\n",
       "│    │    └─Conv2d: 3-39                 [1, 512, 4, 4]            1,179,648\n",
       "│    │    └─BatchNorm2d: 3-40            [1, 512, 4, 4]            1,024\n",
       "│    │    └─ReLU: 3-41                   [1, 512, 4, 4]            --\n",
       "│    │    └─Conv2d: 3-42                 [1, 512, 4, 4]            2,359,296\n",
       "│    │    └─BatchNorm2d: 3-43            [1, 512, 4, 4]            1,024\n",
       "│    │    └─Sequential: 3-44             [1, 512, 4, 4]            132,096\n",
       "│    │    └─ReLU: 3-45                   [1, 512, 4, 4]            --\n",
       "│    └─BasicBlock: 2-8                   [1, 512, 4, 4]            --\n",
       "│    │    └─Conv2d: 3-46                 [1, 512, 4, 4]            2,359,296\n",
       "│    │    └─BatchNorm2d: 3-47            [1, 512, 4, 4]            1,024\n",
       "│    │    └─ReLU: 3-48                   [1, 512, 4, 4]            --\n",
       "│    │    └─Conv2d: 3-49                 [1, 512, 4, 4]            2,359,296\n",
       "│    │    └─BatchNorm2d: 3-50            [1, 512, 4, 4]            1,024\n",
       "│    │    └─ReLU: 3-51                   [1, 512, 4, 4]            --\n",
       "==========================================================================================\n",
       "Total params: 11,176,512\n",
       "Trainable params: 11,176,512\n",
       "Non-trainable params: 0\n",
       "Total mult-adds (M): 592.19\n",
       "==========================================================================================\n",
       "Input size (MB): 0.20\n",
       "Forward/backward pass size (MB): 12.98\n",
       "Params size (MB): 44.71\n",
       "Estimated Total Size (MB): 57.88\n",
       "=========================================================================================="
      ]
     },
     "execution_count": 63,
     "metadata": {},
     "output_type": "execute_result"
    }
   ],
   "source": [
    "torchinfo.summary(base_model.cuda(), input_size=(1,3,128,128))"
   ]
  },
  {
   "cell_type": "code",
   "execution_count": 64,
   "id": "02290262-d600-4ce8-a08d-533ed827a9fe",
   "metadata": {
    "tags": []
   },
   "outputs": [
    {
     "data": {
      "text/plain": [
       "[1, 512]"
      ]
     },
     "execution_count": 64,
     "metadata": {},
     "output_type": "execute_result"
    }
   ],
   "source": [
    "[1,512,4,4][0:2]"
   ]
  },
  {
   "cell_type": "code",
   "execution_count": 65,
   "id": "2ddcbccd-bf2c-4264-8186-dd3f15a7d31f",
   "metadata": {
    "tags": []
   },
   "outputs": [
    {
     "name": "stdout",
     "output_type": "stream",
     "text": [
      "torch.Size([1, 512, 16])\n"
     ]
    }
   ],
   "source": [
    "new = torch.rand(1,512,4,4)\n",
    "print(new.view(1,512,-1).shape)"
   ]
  },
  {
   "cell_type": "code",
   "execution_count": 66,
   "id": "2498143e-7883-447a-b3f4-f08378b04caf",
   "metadata": {
    "tags": []
   },
   "outputs": [],
   "source": [
    "my_conv = nn.Conv2d(\n",
    "            512, \n",
    "            6, \n",
    "            kernel_size=(1, 1), \n",
    "            bias=True\n",
    "        )"
   ]
  },
  {
   "cell_type": "code",
   "execution_count": 67,
   "id": "a689b7b0-df76-46a2-9dfb-b26c1c91b7c1",
   "metadata": {
    "tags": []
   },
   "outputs": [],
   "source": [
    "import torchinfo"
   ]
  },
  {
   "cell_type": "code",
   "execution_count": 68,
   "id": "8d3ab9fc-226b-47c1-9e6a-7e6411d0c6c1",
   "metadata": {
    "tags": []
   },
   "outputs": [
    {
     "data": {
      "text/plain": [
       "==========================================================================================\n",
       "Layer (type:depth-idx)                   Output Shape              Param #\n",
       "==========================================================================================\n",
       "Conv2d                                   [1, 6, 4, 4]              3,078\n",
       "==========================================================================================\n",
       "Total params: 3,078\n",
       "Trainable params: 3,078\n",
       "Non-trainable params: 0\n",
       "Total mult-adds (M): 0.05\n",
       "==========================================================================================\n",
       "Input size (MB): 0.03\n",
       "Forward/backward pass size (MB): 0.00\n",
       "Params size (MB): 0.01\n",
       "Estimated Total Size (MB): 0.05\n",
       "=========================================================================================="
      ]
     },
     "execution_count": 68,
     "metadata": {},
     "output_type": "execute_result"
    }
   ],
   "source": [
    "torchinfo.summary(my_conv.cuda(), input_size=(1,512,4,4))"
   ]
  },
  {
   "cell_type": "code",
   "execution_count": 81,
   "id": "f223d363-8e9a-4b70-abe8-0ab0435e8efe",
   "metadata": {
    "tags": []
   },
   "outputs": [
    {
     "name": "stdout",
     "output_type": "stream",
     "text": [
      "tensor([[[0.7807, 0.6215, 0.6427, 0.4053, 0.3169, 0.6360, 0.6230, 0.7028,\n",
      "          0.8886, 0.2784, 0.1953, 0.0918, 0.0181, 0.9317, 0.8835, 0.3831],\n",
      "         [0.5167, 0.1571, 0.5845, 0.2236, 0.7641, 0.5312, 0.0935, 0.3518,\n",
      "          0.0795, 0.3420, 0.0050, 0.3177, 0.7047, 0.6678, 0.6314, 0.5727],\n",
      "         [0.5590, 0.9872, 0.9179, 0.9304, 0.1583, 0.8918, 0.6423, 0.3031,\n",
      "          0.6654, 0.0754, 0.7955, 0.7830, 0.4375, 0.6081, 0.5205, 0.3352],\n",
      "         [0.6074, 0.2962, 0.8822, 0.0391, 0.2883, 0.7607, 0.3719, 0.2519,\n",
      "          0.3320, 0.8926, 0.5397, 0.0525, 0.8153, 0.3484, 0.1667, 0.9284],\n",
      "         [0.4017, 0.0116, 0.1207, 0.8514, 0.9456, 0.7708, 0.6621, 0.7564,\n",
      "          0.8200, 0.4606, 0.6318, 0.6606, 0.0234, 0.4841, 0.4219, 0.3614],\n",
      "         [0.3547, 0.4958, 0.3930, 0.3433, 0.8997, 0.8088, 0.1566, 0.8244,\n",
      "          0.0740, 0.3304, 0.9534, 0.5310, 0.9969, 0.8270, 0.9054, 0.8407]]])\n"
     ]
    }
   ],
   "source": [
    "ss = torch.rand(1,6,4,4).view(1,6,-1)\n",
    "print(ss)"
   ]
  },
  {
   "cell_type": "code",
   "execution_count": 97,
   "id": "6b4f02f6-a66e-4c13-9d41-3c4d0fdc994a",
   "metadata": {
    "tags": []
   },
   "outputs": [
    {
     "data": {
      "text/plain": [
       "torch.Size([1, 6, 16])"
      ]
     },
     "execution_count": 97,
     "metadata": {},
     "output_type": "execute_result"
    }
   ],
   "source": [
    "ss.shape"
   ]
  },
  {
   "cell_type": "code",
   "execution_count": 98,
   "id": "304454b1-7528-40f8-bf6e-e884cbe14e5d",
   "metadata": {
    "tags": []
   },
   "outputs": [
    {
     "data": {
      "text/plain": [
       "16"
      ]
     },
     "execution_count": 98,
     "metadata": {},
     "output_type": "execute_result"
    }
   ],
   "source": [
    "ss.size(-1)"
   ]
  },
  {
   "cell_type": "code",
   "execution_count": 96,
   "id": "8a2f39f1-0a73-4e95-ad5d-1524dd8e63b4",
   "metadata": {
    "tags": []
   },
   "outputs": [
    {
     "data": {
      "text/plain": [
       "tensor([[[1., 1., 1., 1., 1., 1., 1., 1., 1., 1., 1., 1., 1., 1., 1., 1.],\n",
       "         [1., 1., 1., 1., 1., 1., 1., 1., 1., 1., 1., 1., 1., 1., 1., 1.],\n",
       "         [1., 1., 1., 1., 1., 1., 1., 1., 1., 1., 1., 1., 1., 1., 1., 1.],\n",
       "         [1., 1., 1., 1., 1., 1., 1., 1., 1., 1., 1., 1., 1., 1., 1., 1.],\n",
       "         [1., 1., 1., 1., 1., 1., 1., 1., 1., 1., 1., 1., 1., 1., 1., 1.],\n",
       "         [1., 1., 1., 1., 1., 1., 1., 1., 1., 1., 1., 1., 1., 1., 1., 1.]]])"
      ]
     },
     "execution_count": 96,
     "metadata": {},
     "output_type": "execute_result"
    }
   ],
   "source": [
    "F.softmax(ss, dim=0)"
   ]
  },
  {
   "cell_type": "code",
   "execution_count": 82,
   "id": "5a0782d6-9a19-43cd-9902-0fc2c1f0453f",
   "metadata": {
    "tags": []
   },
   "outputs": [],
   "source": [
    "sss = F.softmax(ss, dim=1)"
   ]
  },
  {
   "cell_type": "code",
   "execution_count": 83,
   "id": "618fc9ee-2e9c-4ac9-ba88-7c2f18d3b00c",
   "metadata": {
    "tags": []
   },
   "outputs": [
    {
     "data": {
      "text/plain": [
       "tensor([[[0.2106, 0.1917, 0.1694, 0.1488, 0.1241, 0.1502, 0.1979, 0.1925,\n",
       "          0.2384, 0.1432, 0.1144, 0.1173, 0.0962, 0.2179, 0.2167, 0.1343],\n",
       "         [0.1618, 0.1205, 0.1598, 0.1241, 0.1942, 0.1353, 0.1165, 0.1355,\n",
       "          0.1061, 0.1526, 0.0946, 0.1470, 0.1912, 0.1673, 0.1685, 0.1623],\n",
       "         [0.1687, 0.2763, 0.2231, 0.2516, 0.1059, 0.1940, 0.2017, 0.1290,\n",
       "          0.1907, 0.1169, 0.2085, 0.2340, 0.1463, 0.1577, 0.1508, 0.1280],\n",
       "         [0.1771, 0.1384, 0.2152, 0.1032, 0.1206, 0.1702, 0.1539, 0.1226,\n",
       "          0.1366, 0.2646, 0.1614, 0.1127, 0.2135, 0.1216, 0.1058, 0.2317],\n",
       "         [0.1442, 0.1041, 0.1005, 0.2325, 0.2328, 0.1719, 0.2058, 0.2031,\n",
       "          0.2226, 0.1718, 0.1770, 0.2071, 0.0967, 0.1393, 0.1366, 0.1314],\n",
       "         [0.1376, 0.1690, 0.1320, 0.1399, 0.2223, 0.1785, 0.1241, 0.2174,\n",
       "          0.1056, 0.1508, 0.2441, 0.1819, 0.2560, 0.1962, 0.2216, 0.2122]]])"
      ]
     },
     "execution_count": 83,
     "metadata": {},
     "output_type": "execute_result"
    }
   ],
   "source": [
    "sss"
   ]
  },
  {
   "cell_type": "code",
   "execution_count": 95,
   "id": "3dfafef8-3923-4e1a-b807-b9fc8d3d1a45",
   "metadata": {
    "tags": []
   },
   "outputs": [
    {
     "name": "stdout",
     "output_type": "stream",
     "text": [
      "tensor([[[1., 2., 3.]],\n",
      "\n",
      "        [[4., 5., 6.]]], dtype=torch.float64)\n",
      "torch.Size([2, 1, 3])\n"
     ]
    }
   ],
   "source": [
    "bb = torch.tensor([\n",
    "    [[1,2,3]],\n",
    "    [[4,5,6]]\n",
    "],dtype=float)\n",
    "print(bb)\n",
    "print(bb.shape)"
   ]
  },
  {
   "cell_type": "code",
   "execution_count": 93,
   "id": "2e64a58b-2de5-4fa1-8601-f58274ca5e33",
   "metadata": {
    "tags": []
   },
   "outputs": [
    {
     "data": {
      "text/plain": [
       "tensor([[0.0900, 0.2447, 0.6652],\n",
       "        [0.0900, 0.2447, 0.6652]], dtype=torch.float64)"
      ]
     },
     "execution_count": 93,
     "metadata": {},
     "output_type": "execute_result"
    }
   ],
   "source": [
    "F.softmax(ss, dim=1)"
   ]
  },
  {
   "cell_type": "code",
   "execution_count": 94,
   "id": "455ed132-11d3-4f68-a5db-94684a479aca",
   "metadata": {
    "tags": []
   },
   "outputs": [
    {
     "data": {
      "text/plain": [
       "0.9999"
      ]
     },
     "execution_count": 94,
     "metadata": {},
     "output_type": "execute_result"
    }
   ],
   "source": [
    "0.0900+0.2447+0.6652"
   ]
  },
  {
   "cell_type": "code",
   "execution_count": 105,
   "id": "a6a2ac18-4c6e-4bb6-a570-0deebc3626b5",
   "metadata": {},
   "outputs": [],
   "source": [
    "class NetVLAD(nn.Module):\n",
    "    \"\"\"NetVLAD layer implementation\"\"\"\n",
    "\n",
    "    def __init__(self, num_clusters=64, dim=128, \n",
    "                 normalize_input=True, vladv2=False):\n",
    "        \"\"\"\n",
    "        Args:\n",
    "            num_clusters : int\n",
    "                The number of clusters\n",
    "            dim : int\n",
    "                Dimension of descriptors\n",
    "            alpha : float\n",
    "                Parameter of initialization. Larger value is harder assignment.\n",
    "            normalize_input : bool\n",
    "                If true, descriptor-wise L2 normalization is applied to input.\n",
    "            vladv2 : bool\n",
    "                If true, use vladv2 otherwise use vladv1\n",
    "        \"\"\"\n",
    "        super(NetVLAD, self).__init__()\n",
    "        self.num_clusters = num_clusters\n",
    "        self.dim = dim\n",
    "        self.alpha = 0\n",
    "        self.vladv2 = vladv2\n",
    "        self.normalize_input = normalize_input\n",
    "        self.conv = nn.Conv2d(dim, num_clusters, kernel_size=(1, 1), bias=vladv2)\n",
    "        self.centroids = nn.Parameter(torch.rand(num_clusters, dim))\n",
    "\n",
    "    def init_params(self, clsts, traindescs):\n",
    "        #TODO replace numpy ops with pytorch ops\n",
    "        if self.vladv2 == False:\n",
    "            clstsAssign = clsts / np.linalg.norm(clsts, axis=1, keepdims=True)\n",
    "            dots = np.dot(clstsAssign, traindescs.T)\n",
    "            dots.sort(0)\n",
    "            dots = dots[::-1, :] # sort, descending\n",
    "\n",
    "            self.alpha = (-np.log(0.01) / np.mean(dots[0,:] - dots[1,:])).item()\n",
    "            self.centroids = nn.Parameter(torch.from_numpy(clsts))\n",
    "            self.conv.weight = nn.Parameter(torch.from_numpy(self.alpha*clstsAssign).unsqueeze(2).unsqueeze(3))\n",
    "            self.conv.bias = None\n",
    "       \n",
    "\n",
    "    def forward(self, x):\n",
    "        N, C = x.shape[:2]\n",
    "\n",
    "        if self.normalize_input:\n",
    "            x = F.normalize(x, p=2, dim=1)  # across descriptor dim\n",
    "\n",
    "        # soft-assignment\n",
    "        soft_assign = self.conv(x).view(N, self.num_clusters, -1)\n",
    "        soft_assign = F.softmax(soft_assign, dim=1)\n",
    "\n",
    "        x_flatten = x.view(N, C, -1)\n",
    "        \n",
    "        # calculate residuals to each clusters\n",
    "        vlad = torch.zeros([N, self.num_clusters, C], dtype=x.dtype, layout=x.layout, device=x.device)\n",
    "        for C in range(self.num_clusters): # slower than non-looped, but lower memory usage \n",
    "            residual = x_flatten.unsqueeze(0).permute(1, 0, 2, 3) - \\\n",
    "                    self.centroids[C:C+1, :].expand(x_flatten.size(-1), -1, -1).permute(1, 2, 0).unsqueeze(0)\n",
    "            residual *= soft_assign[:,C:C+1,:].unsqueeze(2)\n",
    "            vlad[:,C:C+1,:] = residual.sum(dim=-1)\n",
    "\n",
    "        vlad = F.normalize(vlad, p=2, dim=2)  # intra-normalization\n",
    "        vlad = vlad.view(x.size(0), -1)  # flatten\n",
    "        vlad = F.normalize(vlad, p=2, dim=1)  # L2 normalize\n",
    "\n",
    "        return vlad"
   ]
  },
  {
   "cell_type": "code",
   "execution_count": 106,
   "id": "71078533-7f73-41b3-8881-d5ce8b3abfa6",
   "metadata": {
    "tags": []
   },
   "outputs": [],
   "source": [
    "model_netvlad = NetVLAD(6,128,100,True)\n"
   ]
  },
  {
   "cell_type": "code",
   "execution_count": 107,
   "id": "f01f9f32-78d8-4837-9a0d-f291ef8fdff4",
   "metadata": {
    "tags": []
   },
   "outputs": [
    {
     "data": {
      "text/plain": [
       "==========================================================================================\n",
       "Layer (type:depth-idx)                   Output Shape              Param #\n",
       "==========================================================================================\n",
       "NetVLAD                                  [1, 768]                  768\n",
       "├─Conv2d: 1-1                            [1, 6, 4, 4]              774\n",
       "==========================================================================================\n",
       "Total params: 1,542\n",
       "Trainable params: 1,542\n",
       "Non-trainable params: 0\n",
       "Total mult-adds (M): 0.01\n",
       "==========================================================================================\n",
       "Input size (MB): 0.01\n",
       "Forward/backward pass size (MB): 0.00\n",
       "Params size (MB): 0.00\n",
       "Estimated Total Size (MB): 0.01\n",
       "=========================================================================================="
      ]
     },
     "execution_count": 107,
     "metadata": {},
     "output_type": "execute_result"
    }
   ],
   "source": [
    "torchinfo.summary(model_netvlad, input_size=(1,128,4,4))"
   ]
  },
  {
   "cell_type": "code",
   "execution_count": null,
   "id": "5eb60394-7205-49f7-a783-ca600b96b4c1",
   "metadata": {},
   "outputs": [],
   "source": []
  }
 ],
 "metadata": {
  "kernelspec": {
   "display_name": "Python 3 (ipykernel)",
   "language": "python",
   "name": "python3"
  },
  "language_info": {
   "codemirror_mode": {
    "name": "ipython",
    "version": 3
   },
   "file_extension": ".py",
   "mimetype": "text/x-python",
   "name": "python",
   "nbconvert_exporter": "python",
   "pygments_lexer": "ipython3",
   "version": "3.8.10"
  }
 },
 "nbformat": 4,
 "nbformat_minor": 5
}
