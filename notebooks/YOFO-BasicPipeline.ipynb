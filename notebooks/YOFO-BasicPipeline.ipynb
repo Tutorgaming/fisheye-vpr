{
 "cells": [
  {
   "cell_type": "markdown",
   "metadata": {},
   "source": [
    "# YOFO - You Only Fisheye Once\n",
    "\n",
    "Pipeline for Localize fisheye image using global descriptor"
   ]
  },
  {
   "cell_type": "code",
   "execution_count": 1,
   "metadata": {},
   "outputs": [
    {
     "name": "stdout",
     "output_type": "stream",
     "text": [
      "Wed Mar 13 12:32:06 2024       \n",
      "+---------------------------------------------------------------------------------------+\n",
      "| NVIDIA-SMI 545.23.06              Driver Version: 545.23.06    CUDA Version: 12.3     |\n",
      "|-----------------------------------------+----------------------+----------------------+\n",
      "| GPU  Name                 Persistence-M | Bus-Id        Disp.A | Volatile Uncorr. ECC |\n",
      "| Fan  Temp   Perf          Pwr:Usage/Cap |         Memory-Usage | GPU-Util  Compute M. |\n",
      "|                                         |                      |               MIG M. |\n",
      "|=========================================+======================+======================|\n",
      "|   0  NVIDIA GeForce RTX 3090        On  | 00000000:08:00.0 Off |                  N/A |\n",
      "| 69%   72C    P2             380W / 420W |   4454MiB / 24576MiB |     97%      Default |\n",
      "|                                         |                      |                  N/A |\n",
      "+-----------------------------------------+----------------------+----------------------+\n",
      "                                                                                         \n",
      "+---------------------------------------------------------------------------------------+\n",
      "| Processes:                                                                            |\n",
      "|  GPU   GI   CI        PID   Type   Process name                            GPU Memory |\n",
      "|        ID   ID                                                             Usage      |\n",
      "|=======================================================================================|\n",
      "+---------------------------------------------------------------------------------------+\n"
     ]
    }
   ],
   "source": [
    "# Check if we have NVIDIA Driver installed !\n",
    "!nvidia-smi"
   ]
  },
  {
   "cell_type": "markdown",
   "metadata": {},
   "source": [
    "### Import Stuff"
   ]
  },
  {
   "cell_type": "code",
   "execution_count": 5,
   "metadata": {},
   "outputs": [],
   "source": [
    "# Imports\n",
    "# Date Time\n",
    "from dateutil import tz\n",
    "from datetime import datetime\n",
    "\n",
    "# Libraries\n",
    "import sys\n",
    "import os\n",
    "import copy\n",
    "import json\n",
    "import numpy as np\n",
    "import shutil\n",
    "import PIL\n",
    "\n",
    "# Scikit-Learn\n",
    "from sklearn.model_selection import train_test_split\n",
    "from sklearn import svm, datasets, metrics\n",
    "\n",
    "# PYTORCH !\n",
    "import torch\n",
    "import torchinfo\n",
    "import torchvision\n",
    "import torch.nn as nn\n",
    "import torch.nn.functional as F\n",
    "from torch.autograd import Variable\n",
    "\n",
    "# Visualization\n",
    "%matplotlib widget\n",
    "import matplotlib.pyplot as plt\n",
    "from tqdm.notebook import tqdm, trange\n",
    "from torch.utils.tensorboard import SummaryWriter\n",
    "\n",
    "# Path for Import Internal Modules\n",
    "sys.path.append(\"/workspace/fisheye-vpr\")\n"
   ]
  },
  {
   "cell_type": "markdown",
   "metadata": {},
   "source": [
    "### Fix Seed for Regeneration"
   ]
  },
  {
   "cell_type": "code",
   "execution_count": 8,
   "metadata": {},
   "outputs": [
    {
     "data": {
      "text/plain": [
       "<torch._C.Generator at 0x7f9e85f32650>"
      ]
     },
     "execution_count": 8,
     "metadata": {},
     "output_type": "execute_result"
    }
   ],
   "source": [
    "## Fix Seed for Regeneration\n",
    "torch.manual_seed(777)"
   ]
  },
  {
   "cell_type": "markdown",
   "metadata": {},
   "source": [
    "---"
   ]
  },
  {
   "cell_type": "markdown",
   "metadata": {},
   "source": [
    "### Import Model"
   ]
  },
  {
   "cell_type": "code",
   "execution_count": 12,
   "metadata": {},
   "outputs": [],
   "source": [
    "# Main Model\n",
    "from models.vpr_model import VPRModel\n",
    "\n",
    "# Feature Extractor\n",
    "from models.encoders.resnet18 import Resnet18Encoder\n",
    "from models.encoders.vgg16 import VGG16Encoder\n",
    "\n",
    "# Clustering\n",
    "from models.clustering.netvlad import NetVLAD\n",
    "\n",
    "# Loss\n",
    "from models.loss_function.HardTripletLoss import HardTripletLoss"
   ]
  },
  {
   "cell_type": "markdown",
   "metadata": {},
   "source": [
    "### Dataset Selection"
   ]
  },
  {
   "cell_type": "code",
   "execution_count": 13,
   "metadata": {},
   "outputs": [],
   "source": [
    "from dataloaders.isl2_3places_fisheye import ISL2_3Places_Fisheye_Dataset\n",
    "dataset = ISL2_3Places_Fisheye_Dataset()"
   ]
  },
  {
   "cell_type": "markdown",
   "metadata": {},
   "source": [
    "---"
   ]
  },
  {
   "cell_type": "markdown",
   "metadata": {},
   "source": [
    "### Model Assembling"
   ]
  },
  {
   "cell_type": "code",
   "execution_count": 15,
   "metadata": {},
   "outputs": [
    {
     "name": "stdout",
     "output_type": "stream",
     "text": [
      "[RESNET18] Output Dim Size: 512\n",
      "===========================================\n",
      "NetVLAD Module initialized !\n",
      "===========================================\n",
      " - self.num_clusters : 20\n",
      " - self.dim : 512\n",
      " - self.alpha : 100.0\n",
      " - self.normalize_input : True\n",
      "===========================================\n"
     ]
    }
   ],
   "source": [
    "netvlad_config = {\n",
    "    \"num_clusters\": 20,\n",
    "    \"desc_dim\": 512,            # Up to the Feature Extraction Module\n",
    "    \"alpha\": 100.0,\n",
    "    \"normalize_input\": True,\n",
    "}\n",
    "model = VPRModel(\n",
    "    feature_extractor=Resnet18Encoder(),\n",
    "    clustering=NetVLAD(**netvlad_config)\n",
    ")"
   ]
  },
  {
   "cell_type": "markdown",
   "metadata": {},
   "source": [
    "---"
   ]
  }
 ],
 "metadata": {
  "kernelspec": {
   "display_name": "Python 3 (ipykernel)",
   "language": "python",
   "name": "python3"
  },
  "language_info": {
   "codemirror_mode": {
    "name": "ipython",
    "version": 3
   },
   "file_extension": ".py",
   "mimetype": "text/x-python",
   "name": "python",
   "nbconvert_exporter": "python",
   "pygments_lexer": "ipython3",
   "version": "3.8.10"
  }
 },
 "nbformat": 4,
 "nbformat_minor": 2
}
