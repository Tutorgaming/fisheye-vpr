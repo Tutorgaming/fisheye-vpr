{
 "cells": [
  {
   "cell_type": "markdown",
   "metadata": {},
   "source": [
    "# YOFO - You Only Fisheye Once\n",
    "\n",
    "Pipeline for Localize fisheye image using global descriptor"
   ]
  },
  {
   "cell_type": "code",
   "execution_count": 1,
   "metadata": {},
   "outputs": [
    {
     "name": "stdout",
     "output_type": "stream",
     "text": [
      "Wed Mar 13 16:33:01 2024       \n",
      "+---------------------------------------------------------------------------------------+\n",
      "| NVIDIA-SMI 545.23.06              Driver Version: 545.23.06    CUDA Version: 12.3     |\n",
      "|-----------------------------------------+----------------------+----------------------+\n",
      "| GPU  Name                 Persistence-M | Bus-Id        Disp.A | Volatile Uncorr. ECC |\n",
      "| Fan  Temp   Perf          Pwr:Usage/Cap |         Memory-Usage | GPU-Util  Compute M. |\n",
      "|                                         |                      |               MIG M. |\n",
      "|=========================================+======================+======================|\n",
      "|   0  NVIDIA GeForce RTX 3090        On  | 00000000:08:00.0 Off |                  N/A |\n",
      "| 54%   60C    P2             260W / 420W |   7061MiB / 24576MiB |     95%      Default |\n",
      "|                                         |                      |                  N/A |\n",
      "+-----------------------------------------+----------------------+----------------------+\n",
      "                                                                                         \n",
      "+---------------------------------------------------------------------------------------+\n",
      "| Processes:                                                                            |\n",
      "|  GPU   GI   CI        PID   Type   Process name                            GPU Memory |\n",
      "|        ID   ID                                                             Usage      |\n",
      "|=======================================================================================|\n",
      "+---------------------------------------------------------------------------------------+\n"
     ]
    }
   ],
   "source": [
    "# Check if we have NVIDIA Driver installed !\n",
    "!nvidia-smi"
   ]
  },
  {
   "cell_type": "markdown",
   "metadata": {},
   "source": [
    "### Import Stuff"
   ]
  },
  {
   "cell_type": "code",
   "execution_count": 2,
   "metadata": {},
   "outputs": [
    {
     "name": "stderr",
     "output_type": "stream",
     "text": [
      "2024-03-13 16:33:04.104867: I tensorflow/core/platform/cpu_feature_guard.cc:182] This TensorFlow binary is optimized to use available CPU instructions in performance-critical operations.\n",
      "To enable the following instructions: AVX2 FMA, in other operations, rebuild TensorFlow with the appropriate compiler flags.\n",
      "2024-03-13 16:33:05.418855: W tensorflow/compiler/tf2tensorrt/utils/py_utils.cc:38] TF-TRT Warning: Could not find TensorRT\n"
     ]
    }
   ],
   "source": [
    "# Imports\n",
    "# Date Time\n",
    "from dateutil import tz\n",
    "from datetime import datetime\n",
    "\n",
    "# Libraries\n",
    "import sys\n",
    "import os\n",
    "import copy\n",
    "import json\n",
    "import numpy as np\n",
    "import shutil\n",
    "import PIL\n",
    "\n",
    "# Scikit-Learn\n",
    "from sklearn.model_selection import train_test_split\n",
    "from sklearn import svm, datasets, metrics\n",
    "\n",
    "# PYTORCH !\n",
    "import torch\n",
    "import torchinfo\n",
    "import torchvision\n",
    "import torch.nn as nn\n",
    "import torch.nn.functional as F\n",
    "from torch.autograd import Variable\n",
    "\n",
    "# Visualization\n",
    "%matplotlib widget\n",
    "import matplotlib.pyplot as plt\n",
    "from tqdm.notebook import tqdm, trange\n",
    "from torch.utils.tensorboard import SummaryWriter\n",
    "\n",
    "# Path for Import Internal Modules\n",
    "sys.path.append(\"/workspace/fisheye-vpr\")\n"
   ]
  },
  {
   "cell_type": "markdown",
   "metadata": {},
   "source": [
    "### Fix Seed for Regeneration"
   ]
  },
  {
   "cell_type": "code",
   "execution_count": 3,
   "metadata": {},
   "outputs": [
    {
     "data": {
      "text/plain": [
       "<torch._C.Generator at 0x7f8556a20590>"
      ]
     },
     "execution_count": 3,
     "metadata": {},
     "output_type": "execute_result"
    }
   ],
   "source": [
    "## Fix Seed for Regeneration\n",
    "torch.manual_seed(777)"
   ]
  },
  {
   "cell_type": "markdown",
   "metadata": {},
   "source": [
    "---"
   ]
  },
  {
   "cell_type": "markdown",
   "metadata": {},
   "source": [
    "### Import Model"
   ]
  },
  {
   "cell_type": "code",
   "execution_count": 4,
   "metadata": {},
   "outputs": [],
   "source": [
    "# Main Model\n",
    "from models.vpr_model import VPRModel\n",
    "\n",
    "# Feature Extractor\n",
    "from models.encoders.resnet18 import Resnet18Encoder\n",
    "from models.encoders.vgg16 import VGG16Encoder\n",
    "\n",
    "# Clustering\n",
    "from models.clustering.netvlad import NetVLAD\n",
    "\n",
    "# Loss\n",
    "from models.loss_function.HardTripletLoss import HardTripletLoss\n",
    "\n",
    "# Trainer\n",
    "from util.train import Trainer"
   ]
  },
  {
   "cell_type": "markdown",
   "metadata": {},
   "source": [
    "### Dataset Selection"
   ]
  },
  {
   "cell_type": "code",
   "execution_count": 5,
   "metadata": {},
   "outputs": [],
   "source": [
    "from dataloaders.isl2_3places_fisheye import ISL2_3Places_Fisheye_Dataset\n",
    "dataset = ISL2_3Places_Fisheye_Dataset()"
   ]
  },
  {
   "cell_type": "markdown",
   "metadata": {},
   "source": [
    "---"
   ]
  },
  {
   "cell_type": "markdown",
   "metadata": {},
   "source": [
    "### Model Assembling"
   ]
  },
  {
   "cell_type": "code",
   "execution_count": 6,
   "metadata": {},
   "outputs": [
    {
     "name": "stdout",
     "output_type": "stream",
     "text": [
      "[RESNET18] Output Dim Size: 512\n",
      "===========================================\n",
      "NetVLAD Module initialized !\n",
      "===========================================\n",
      " - self.num_clusters : 20\n",
      " - self.dim : 512\n",
      " - self.alpha : 100.0\n",
      " - self.normalize_input : True\n",
      "===========================================\n"
     ]
    }
   ],
   "source": [
    "netvlad_config = {\n",
    "    \"num_clusters\": 20,\n",
    "    \"desc_dim\": 512,            # Up to the Feature Extraction Module\n",
    "    \"alpha\": 100.0,\n",
    "    \"normalize_input\": True,\n",
    "}\n",
    "model = VPRModel(\n",
    "    feature_extractor=Resnet18Encoder(fine_tuning=False),\n",
    "    clustering=NetVLAD(**netvlad_config)\n",
    ")\n",
    "model = model.to(\"cuda\")"
   ]
  },
  {
   "cell_type": "markdown",
   "metadata": {},
   "source": [
    "### Criterion (Loss Function)"
   ]
  },
  {
   "cell_type": "code",
   "execution_count": 7,
   "metadata": {},
   "outputs": [],
   "source": [
    "criterion = HardTripletLoss()"
   ]
  },
  {
   "cell_type": "markdown",
   "metadata": {},
   "source": [
    "---"
   ]
  },
  {
   "cell_type": "markdown",
   "metadata": {},
   "source": [
    "### Trainer"
   ]
  },
  {
   "cell_type": "code",
   "execution_count": 8,
   "metadata": {},
   "outputs": [],
   "source": [
    "# Configuration\n",
    "config = {\n",
    "    \"run_name\": \"default\",\n",
    "    \"start_time\": \"\",\n",
    "    \"training_epoch\": 20\n",
    "}"
   ]
  },
  {
   "cell_type": "code",
   "execution_count": 9,
   "metadata": {},
   "outputs": [],
   "source": [
    "optimizer = torch.optim.SGD(\n",
    "    model.parameters(),\n",
    "    lr=0.0001,\n",
    "    weight_decay=0.001,\n",
    "    momentum=0.9\n",
    ")\n",
    "scheduler = torch.optim.lr_scheduler.StepLR(\n",
    "    optimizer,\n",
    "    step_size=5,\n",
    "    gamma=0.5\n",
    ")"
   ]
  },
  {
   "cell_type": "code",
   "execution_count": 10,
   "metadata": {},
   "outputs": [
    {
     "name": "stdout",
     "output_type": "stream",
     "text": [
      "Run Name : resnet18_NetVLAD20_ISL2_LabLiftToiletFisheye_13-Mar-2024_23-33-08\n"
     ]
    }
   ],
   "source": [
    "trainer = Trainer(\n",
    "    dataset,\n",
    "    model,\n",
    "    criterion,\n",
    "    optimizer,\n",
    "    scheduler,\n",
    "    config,\n",
    ")"
   ]
  },
  {
   "cell_type": "code",
   "execution_count": 11,
   "metadata": {},
   "outputs": [
    {
     "name": "stderr",
     "output_type": "stream",
     "text": [
      "==> Epoch 0 Training: 100%|██████████| 29/29 [00:06<00:00,  4.30 batch/s, batch_idx=28, epoch_idx=0, loss=0.127]\n"
     ]
    },
    {
     "name": "stdout",
     "output_type": "stream",
     "text": [
      "Validating epoch 0\n"
     ]
    },
    {
     "name": "stderr",
     "output_type": "stream",
     "text": [
      "==> Epoch 0 Validating: 100%|██████████| 4/4 [00:01<00:00,  3.69batch/s]\n",
      "==> Epoch 1 Training: 100%|██████████| 29/29 [00:05<00:00,  5.09 batch/s, batch_idx=28, epoch_idx=1, loss=0.121]\n"
     ]
    },
    {
     "name": "stdout",
     "output_type": "stream",
     "text": [
      "Validating epoch 1\n"
     ]
    },
    {
     "name": "stderr",
     "output_type": "stream",
     "text": [
      "==> Epoch 1 Validating: 100%|██████████| 4/4 [00:00<00:00,  6.47batch/s]\n",
      "==> Epoch 2 Training: 100%|██████████| 29/29 [00:05<00:00,  5.07 batch/s, batch_idx=28, epoch_idx=2, loss=0.0404]\n"
     ]
    },
    {
     "name": "stdout",
     "output_type": "stream",
     "text": [
      "Validating epoch 2\n"
     ]
    },
    {
     "name": "stderr",
     "output_type": "stream",
     "text": [
      "==> Epoch 2 Validating: 100%|██████████| 4/4 [00:00<00:00,  4.50batch/s]\n",
      "==> Epoch 3 Training: 100%|██████████| 29/29 [00:05<00:00,  5.49 batch/s, batch_idx=28, epoch_idx=3, loss=0.189]\n"
     ]
    },
    {
     "name": "stdout",
     "output_type": "stream",
     "text": [
      "Validating epoch 3\n"
     ]
    },
    {
     "name": "stderr",
     "output_type": "stream",
     "text": [
      "==> Epoch 3 Validating: 100%|██████████| 4/4 [00:00<00:00,  5.84batch/s]\n",
      "==> Epoch 4 Training: 100%|██████████| 29/29 [00:05<00:00,  5.13 batch/s, batch_idx=28, epoch_idx=4, loss=0.123]\n"
     ]
    },
    {
     "name": "stdout",
     "output_type": "stream",
     "text": [
      "Validating epoch 4\n"
     ]
    },
    {
     "name": "stderr",
     "output_type": "stream",
     "text": [
      "==> Epoch 4 Validating: 100%|██████████| 4/4 [00:00<00:00,  6.03batch/s]\n",
      "==> Epoch 5 Training: 100%|██████████| 29/29 [00:05<00:00,  5.28 batch/s, batch_idx=28, epoch_idx=5, loss=0.137]\n"
     ]
    },
    {
     "name": "stdout",
     "output_type": "stream",
     "text": [
      "Validating epoch 5\n"
     ]
    },
    {
     "name": "stderr",
     "output_type": "stream",
     "text": [
      "==> Epoch 5 Validating: 100%|██████████| 4/4 [00:00<00:00,  5.86batch/s]\n",
      "==> Epoch 6 Training: 100%|██████████| 29/29 [00:06<00:00,  4.77 batch/s, batch_idx=28, epoch_idx=6, loss=0.141]\n"
     ]
    },
    {
     "name": "stdout",
     "output_type": "stream",
     "text": [
      "Validating epoch 6\n"
     ]
    },
    {
     "name": "stderr",
     "output_type": "stream",
     "text": [
      "==> Epoch 6 Validating: 100%|██████████| 4/4 [00:00<00:00,  6.56batch/s]\n",
      "==> Epoch 7 Training: 100%|██████████| 29/29 [00:05<00:00,  5.68 batch/s, batch_idx=28, epoch_idx=7, loss=0.14]\n"
     ]
    },
    {
     "name": "stdout",
     "output_type": "stream",
     "text": [
      "Validating epoch 7\n"
     ]
    },
    {
     "name": "stderr",
     "output_type": "stream",
     "text": [
      "==> Epoch 7 Validating: 100%|██████████| 4/4 [00:00<00:00,  5.61batch/s]\n",
      "==> Epoch 8 Training: 100%|██████████| 29/29 [00:05<00:00,  5.28 batch/s, batch_idx=28, epoch_idx=8, loss=0.116]\n"
     ]
    },
    {
     "name": "stdout",
     "output_type": "stream",
     "text": [
      "Validating epoch 8\n"
     ]
    },
    {
     "name": "stderr",
     "output_type": "stream",
     "text": [
      "==> Epoch 8 Validating: 100%|██████████| 4/4 [00:00<00:00,  7.07batch/s]\n",
      "==> Epoch 9 Training: 100%|██████████| 29/29 [00:05<00:00,  5.61 batch/s, batch_idx=28, epoch_idx=9, loss=0.114]\n"
     ]
    },
    {
     "name": "stdout",
     "output_type": "stream",
     "text": [
      "Validating epoch 9\n"
     ]
    },
    {
     "name": "stderr",
     "output_type": "stream",
     "text": [
      "==> Epoch 9 Validating: 100%|██████████| 4/4 [00:00<00:00,  5.79batch/s]\n",
      "==> Epoch 10 Training: 100%|██████████| 29/29 [00:05<00:00,  4.94 batch/s, batch_idx=28, epoch_idx=10, loss=0.12]\n"
     ]
    },
    {
     "name": "stdout",
     "output_type": "stream",
     "text": [
      "Validating epoch 10\n"
     ]
    },
    {
     "name": "stderr",
     "output_type": "stream",
     "text": [
      "==> Epoch 10 Validating: 100%|██████████| 4/4 [00:00<00:00,  5.59batch/s]\n",
      "==> Epoch 11 Training: 100%|██████████| 29/29 [00:06<00:00,  4.75 batch/s, batch_idx=28, epoch_idx=11, loss=0.0757]\n"
     ]
    },
    {
     "name": "stdout",
     "output_type": "stream",
     "text": [
      "Validating epoch 11\n"
     ]
    },
    {
     "name": "stderr",
     "output_type": "stream",
     "text": [
      "==> Epoch 11 Validating: 100%|██████████| 4/4 [00:00<00:00,  4.31batch/s]\n",
      "==> Epoch 12 Training: 100%|██████████| 29/29 [00:05<00:00,  5.52 batch/s, batch_idx=28, epoch_idx=12, loss=0.0978]\n"
     ]
    },
    {
     "name": "stdout",
     "output_type": "stream",
     "text": [
      "Validating epoch 12\n"
     ]
    },
    {
     "name": "stderr",
     "output_type": "stream",
     "text": [
      "==> Epoch 12 Validating: 100%|██████████| 4/4 [00:00<00:00,  5.73batch/s]\n",
      "==> Epoch 13 Training: 100%|██████████| 29/29 [00:05<00:00,  4.95 batch/s, batch_idx=28, epoch_idx=13, loss=0.123]\n"
     ]
    },
    {
     "name": "stdout",
     "output_type": "stream",
     "text": [
      "Validating epoch 13\n"
     ]
    },
    {
     "name": "stderr",
     "output_type": "stream",
     "text": [
      "==> Epoch 13 Validating: 100%|██████████| 4/4 [00:00<00:00,  6.14batch/s]\n",
      "==> Epoch 14 Training: 100%|██████████| 29/29 [00:06<00:00,  4.70 batch/s, batch_idx=28, epoch_idx=14, loss=0.117]\n"
     ]
    },
    {
     "name": "stdout",
     "output_type": "stream",
     "text": [
      "Validating epoch 14\n"
     ]
    },
    {
     "name": "stderr",
     "output_type": "stream",
     "text": [
      "==> Epoch 14 Validating: 100%|██████████| 4/4 [00:00<00:00,  6.42batch/s]\n",
      "==> Epoch 15 Training: 100%|██████████| 29/29 [00:05<00:00,  5.59 batch/s, batch_idx=28, epoch_idx=15, loss=0.126]\n"
     ]
    },
    {
     "name": "stdout",
     "output_type": "stream",
     "text": [
      "Validating epoch 15\n"
     ]
    },
    {
     "name": "stderr",
     "output_type": "stream",
     "text": [
      "==> Epoch 15 Validating: 100%|██████████| 4/4 [00:00<00:00,  5.66batch/s]\n",
      "==> Epoch 16 Training: 100%|██████████| 29/29 [00:06<00:00,  4.67 batch/s, batch_idx=28, epoch_idx=16, loss=0.122]\n"
     ]
    },
    {
     "name": "stdout",
     "output_type": "stream",
     "text": [
      "Validating epoch 16\n"
     ]
    },
    {
     "name": "stderr",
     "output_type": "stream",
     "text": [
      "==> Epoch 16 Validating: 100%|██████████| 4/4 [00:00<00:00,  4.29batch/s]\n",
      "==> Epoch 17 Training: 100%|██████████| 29/29 [00:05<00:00,  5.69 batch/s, batch_idx=28, epoch_idx=17, loss=0.125]\n"
     ]
    },
    {
     "name": "stdout",
     "output_type": "stream",
     "text": [
      "Validating epoch 17\n"
     ]
    },
    {
     "name": "stderr",
     "output_type": "stream",
     "text": [
      "==> Epoch 17 Validating: 100%|██████████| 4/4 [00:00<00:00,  5.96batch/s]\n",
      "==> Epoch 18 Training: 100%|██████████| 29/29 [00:05<00:00,  4.98 batch/s, batch_idx=28, epoch_idx=18, loss=0.118]\n"
     ]
    },
    {
     "name": "stdout",
     "output_type": "stream",
     "text": [
      "Validating epoch 18\n"
     ]
    },
    {
     "name": "stderr",
     "output_type": "stream",
     "text": [
      "==> Epoch 18 Validating: 100%|██████████| 4/4 [00:00<00:00,  6.07batch/s]\n",
      "==> Epoch 19 Training: 100%|██████████| 29/29 [00:05<00:00,  5.12 batch/s, batch_idx=28, epoch_idx=19, loss=0.0628]\n"
     ]
    },
    {
     "name": "stdout",
     "output_type": "stream",
     "text": [
      "Validating epoch 19\n"
     ]
    },
    {
     "name": "stderr",
     "output_type": "stream",
     "text": [
      "==> Epoch 19 Validating: 100%|██████████| 4/4 [00:00<00:00,  4.06batch/s]\n",
      "Model Training: 100%|██████████| 20/20 [02:09<00:00,  6.50s/epoch]\n"
     ]
    }
   ],
   "source": [
    "trainer.train()"
   ]
  }
 ],
 "metadata": {
  "kernelspec": {
   "display_name": "Python 3 (ipykernel)",
   "language": "python",
   "name": "python3"
  },
  "language_info": {
   "codemirror_mode": {
    "name": "ipython",
    "version": 3
   },
   "file_extension": ".py",
   "mimetype": "text/x-python",
   "name": "python",
   "nbconvert_exporter": "python",
   "pygments_lexer": "ipython3",
   "version": "3.8.10"
  }
 },
 "nbformat": 4,
 "nbformat_minor": 2
}
